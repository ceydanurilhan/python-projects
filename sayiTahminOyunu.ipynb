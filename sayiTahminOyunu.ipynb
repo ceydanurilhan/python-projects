{
  "nbformat": 4,
  "nbformat_minor": 0,
  "metadata": {
    "colab": {
      "name": "sayiTahminOyunu.ipynb",
      "provenance": [],
      "authorship_tag": "ABX9TyO+e38OPNu7soLY+jBq8wPh",
      "include_colab_link": true
    },
    "kernelspec": {
      "name": "python3",
      "display_name": "Python 3"
    },
    "language_info": {
      "name": "python"
    }
  },
  "cells": [
    {
      "cell_type": "markdown",
      "metadata": {
        "id": "view-in-github",
        "colab_type": "text"
      },
      "source": [
        "<a href=\"https://colab.research.google.com/github/ceydanurilhan/python-projects/blob/main/sayiTahminOyunu.ipynb\" target=\"_parent\"><img src=\"https://colab.research.google.com/assets/colab-badge.svg\" alt=\"Open In Colab\"/></a>"
      ]
    },
    {
      "cell_type": "code",
      "execution_count": 4,
      "metadata": {
        "colab": {
          "base_uri": "https://localhost:8080/"
        },
        "id": "PhBHl2w6nMuS",
        "outputId": "efd59756-0fe2-4c61-e8e7-c2c711e9694c"
      },
      "outputs": [
        {
          "output_type": "stream",
          "name": "stdout",
          "text": [
            "Sayı tahmin oyunu için bir tahminde bulunun: 50\n",
            "Üzgünüm daha küçük bir sayı tahmininde bulunmalıydın.\n",
            "Sayı tahmin oyunu için bir tahminde bulunun: 25\n",
            "Üzgünüm daha küçük bir sayı tahmininde bulunmalıydın.\n",
            "Sayı tahmin oyunu için bir tahminde bulunun: 15\n",
            "Üzgünüm daha küçük bir sayı tahmininde bulunmalıydın.\n",
            "Sayı tahmin oyunu için bir tahminde bulunun: 8\n",
            "Üzgünüm daha küçük bir sayı tahmininde bulunmalıydın.\n",
            "Sayı tahmin oyunu için bir tahminde bulunun: 4\n",
            "Hiç oynamasan daha iyi bence\n"
          ]
        }
      ],
      "source": [
        "import random\n",
        "\n",
        "def guess(num):\n",
        "  count = 1\n",
        "  random_number = int(input(\"Sayı tahmin oyunu için bir tahminde bulunun: \"))\n",
        "\n",
        "  while num != random_number:\n",
        "    count +=1\n",
        "    if num < random_number:\n",
        "      print(\"Üzgünüm daha küçük bir sayı tahmininde bulunmalıydın.\")\n",
        "    else:\n",
        "      print(\"Üzgünüm daha büyük bir sayı tahmininde bulunmalıydın.\")\n",
        "    random_number = int(input(\"Sayı tahmin oyunu için bir tahminde bulunun: \"))\n",
        "  if count == 1:\n",
        "    print(\"Tebrikler tahmin oyununda gerçekten iyisin\")\n",
        "  elif count < 5:\n",
        "    print(\"Eh işte iyi sayılırsın\")\n",
        "  else:\n",
        "    print(\"Hiç oynamasan daha iyi bence\")\n",
        "\n",
        "guess(random.randint(1,100))"
      ]
    }
  ]
}