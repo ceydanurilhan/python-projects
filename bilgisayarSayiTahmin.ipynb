{
  "nbformat": 4,
  "nbformat_minor": 0,
  "metadata": {
    "colab": {
      "name": "bilgisayarSayiTahmin.ipynb",
      "provenance": [],
      "authorship_tag": "ABX9TyOcKQ20u8zer7hqEOYex4jm",
      "include_colab_link": true
    },
    "kernelspec": {
      "name": "python3",
      "display_name": "Python 3"
    },
    "language_info": {
      "name": "python"
    }
  },
  "cells": [
    {
      "cell_type": "markdown",
      "metadata": {
        "id": "view-in-github",
        "colab_type": "text"
      },
      "source": [
        "<a href=\"https://colab.research.google.com/github/ceydanurilhan/python-projects/blob/main/bilgisayarSayiTahmin.ipynb\" target=\"_parent\"><img src=\"https://colab.research.google.com/assets/colab-badge.svg\" alt=\"Open In Colab\"/></a>"
      ]
    },
    {
      "cell_type": "code",
      "execution_count": 2,
      "metadata": {
        "colab": {
          "base_uri": "https://localhost:8080/"
        },
        "id": "YeraivlBmkRz",
        "outputId": "8917909a-f50f-4006-b268-0e4776178140"
      },
      "outputs": [
        {
          "output_type": "stream",
          "name": "stdout",
          "text": [
            "Tahminde bulunduğum deger 77, aklında tuttuğun değerden büyükse b, küçükse k, doğru ise d değerini gir: b\n",
            "Tahminde bulunduğum deger 72, aklında tuttuğun değerden büyükse b, küçükse k, doğru ise d değerini gir: b\n",
            "Tahminde bulunduğum deger 42, aklında tuttuğun değerden büyükse b, küçükse k, doğru ise d değerini gir: b\n",
            "Tahminde bulunduğum deger 30, aklında tuttuğun değerden büyükse b, küçükse k, doğru ise d değerini gir: b\n",
            "Tahminde bulunduğum deger 23, aklında tuttuğun değerden büyükse b, küçükse k, doğru ise d değerini gir: b\n",
            "Tahminde bulunduğum deger 2, aklında tuttuğun değerden büyükse b, küçükse k, doğru ise d değerini gir: k\n",
            "Tahminde bulunduğum deger 10, aklında tuttuğun değerden büyükse b, küçükse k, doğru ise d değerini gir: b\n",
            "Tahminde bulunduğum deger 6, aklında tuttuğun değerden büyükse b, küçükse k, doğru ise d değerini gir: k\n",
            "Tahminde bulunduğum deger 7, aklında tuttuğun değerden büyükse b, küçükse k, doğru ise d değerini gir: k\n",
            "Tahminde bulunduğum deger 9, aklında tuttuğun değerden büyükse b, küçükse k, doğru ise d değerini gir: d\n",
            "Tebrikler doğru tahminde bulundunuz\n"
          ]
        }
      ],
      "source": [
        "import random\n",
        "\n",
        "def computer_guess(num):\n",
        "  start, end = 1, 100\n",
        "  back = ''\n",
        "  while back != \"d\":\n",
        "    if start <= end:\n",
        "      guess = random.randint(start,end)\n",
        "    else:\n",
        "      guess = start\n",
        "\n",
        "    back = input(f\"Tahminde bulunduğum deger {guess}, aklında tuttuğun değerden büyükse b, küçükse k, doğru ise d değerini gir: \")\n",
        "\n",
        "    if back == 'b':\n",
        "      end = guess - 1\n",
        "    elif back == 'k':\n",
        "      start = guess + 1 \n",
        "    elif back !='d':\n",
        "      print(\"Yanlış ifade kullandınız\")\n",
        "      break\n",
        "      \n",
        "  print(\"Tebrikler doğru tahminde bulundunuz\")  \n",
        "\n",
        "computer_guess(9)"
      ]
    }
  ]
}