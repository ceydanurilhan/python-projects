{
  "nbformat": 4,
  "nbformat_minor": 0,
  "metadata": {
    "colab": {
      "name": "SistersLab-Ders2.ipynb",
      "provenance": [],
      "authorship_tag": "ABX9TyNQlh8n5/k/V8y7eb76EloW",
      "include_colab_link": true
    },
    "kernelspec": {
      "name": "python3",
      "display_name": "Python 3"
    },
    "language_info": {
      "name": "python"
    }
  },
  "cells": [
    {
      "cell_type": "markdown",
      "metadata": {
        "id": "view-in-github",
        "colab_type": "text"
      },
      "source": [
        "<a href=\"https://colab.research.google.com/github/ceydanurilhan/python-projects/blob/main/SistersLab_Ders2.ipynb\" target=\"_parent\"><img src=\"https://colab.research.google.com/assets/colab-badge.svg\" alt=\"Open In Colab\"/></a>"
      ]
    },
    {
      "cell_type": "markdown",
      "source": [
        "**Yıldız Çizimleri**"
      ],
      "metadata": {
        "id": "ZlOXP_wxTUix"
      }
    },
    {
      "cell_type": "code",
      "source": [
        "rows = 5\n",
        "for i in range(0,rows):\n",
        "  for j  in range(0,i+1):\n",
        "    print(\"*\" , end=\"\")\n",
        "  print()   "
      ],
      "metadata": {
        "colab": {
          "base_uri": "https://localhost:8080/"
        },
        "id": "HjbEHdOvTT6O",
        "outputId": "eef95ce3-8a9a-42d6-f5e8-48692a0eb46d"
      },
      "execution_count": null,
      "outputs": [
        {
          "output_type": "stream",
          "name": "stdout",
          "text": [
            "*\n",
            "**\n",
            "***\n",
            "****\n",
            "*****\n"
          ]
        }
      ]
    },
    {
      "cell_type": "code",
      "execution_count": null,
      "metadata": {
        "colab": {
          "base_uri": "https://localhost:8080/"
        },
        "id": "QZBESdJ5N-Lm",
        "outputId": "c20f2c61-b5e3-471e-90ef-9feacb218c7d"
      },
      "outputs": [
        {
          "output_type": "stream",
          "name": "stdout",
          "text": [
            "*\n",
            "**\n",
            "***\n",
            "****\n",
            "*****\n"
          ]
        }
      ],
      "source": [
        "rows = 5\n",
        "for i in range(1,rows+1):\n",
        "  print(\"*\" * i)"
      ]
    },
    {
      "cell_type": "code",
      "source": [
        "rows = 5\n",
        "for i in range(rows,0,-1):\n",
        "  for j in range(0,i):\n",
        "    print(\"*\", end=\"\")\n",
        "  print()  "
      ],
      "metadata": {
        "colab": {
          "base_uri": "https://localhost:8080/"
        },
        "id": "TqcMSIAHUDWG",
        "outputId": "d0d3f8ad-173b-4d06-b1d7-165fac97a466"
      },
      "execution_count": null,
      "outputs": [
        {
          "output_type": "stream",
          "name": "stdout",
          "text": [
            "*****\n",
            "****\n",
            "***\n",
            "**\n",
            "*\n"
          ]
        }
      ]
    },
    {
      "cell_type": "code",
      "source": [
        "rows = 5\n",
        "for i in range(rows,0,-1):\n",
        "  print(\"*\" * i)"
      ],
      "metadata": {
        "colab": {
          "base_uri": "https://localhost:8080/"
        },
        "id": "SIzH-rHZU5KM",
        "outputId": "081063b3-e3e7-4afa-9f98-331227b3f907"
      },
      "execution_count": null,
      "outputs": [
        {
          "output_type": "stream",
          "name": "stdout",
          "text": [
            "*****\n",
            "****\n",
            "***\n",
            "**\n",
            "*\n"
          ]
        }
      ]
    },
    {
      "cell_type": "code",
      "source": [
        "rows = 5\n",
        "for i in range(0,rows):\n",
        "  for j in range(0,i+1):\n",
        "    if j ==0:\n",
        "      print(\" \"*(rows-i)+ \"*\", end=\"\")\n",
        "    else:\n",
        "      print(\"*\", end=\"\")   \n",
        "  print()"
      ],
      "metadata": {
        "colab": {
          "base_uri": "https://localhost:8080/"
        },
        "id": "JCkzD4AvVmry",
        "outputId": "673ef2e9-0b66-4d0c-cf56-1ff4776efd04"
      },
      "execution_count": null,
      "outputs": [
        {
          "output_type": "stream",
          "name": "stdout",
          "text": [
            "     *\n",
            "    **\n",
            "   ***\n",
            "  ****\n",
            " *****\n"
          ]
        }
      ]
    },
    {
      "cell_type": "code",
      "source": [
        "rows = 5\n",
        "for i in range(1,rows+1):\n",
        "  print(\" \"*(rows-i)+\"*\" * i)"
      ],
      "metadata": {
        "colab": {
          "base_uri": "https://localhost:8080/"
        },
        "id": "yOkrJ3RHYYgi",
        "outputId": "248263b1-81a0-4c1c-f8f2-f2441d6ac104"
      },
      "execution_count": null,
      "outputs": [
        {
          "output_type": "stream",
          "name": "stdout",
          "text": [
            "    *\n",
            "   **\n",
            "  ***\n",
            " ****\n",
            "*****\n"
          ]
        }
      ]
    },
    {
      "cell_type": "code",
      "source": [
        "rows = 5\n",
        "for i in range(rows,0,-1):\n",
        "  for j in range(0,i):\n",
        "    if j ==0:\n",
        "      print(\" \"*(rows-i)+ \"*\", end=\"\")\n",
        "    else:\n",
        "      print(\"*\", end=\"\")   \n",
        "  print()"
      ],
      "metadata": {
        "colab": {
          "base_uri": "https://localhost:8080/"
        },
        "id": "nVYJaB4PYk_p",
        "outputId": "73c0c4de-4c82-4ac3-c29d-21c0ee02b7bc"
      },
      "execution_count": null,
      "outputs": [
        {
          "output_type": "stream",
          "name": "stdout",
          "text": [
            "*****\n",
            " ****\n",
            "  ***\n",
            "   **\n",
            "    *\n"
          ]
        }
      ]
    },
    {
      "cell_type": "code",
      "source": [
        "rows = 5\n",
        "for i in range(rows,0,-1):\n",
        "  print(\" \" *(rows-i) + \"*\"*i )"
      ],
      "metadata": {
        "colab": {
          "base_uri": "https://localhost:8080/"
        },
        "id": "xDFLoTRPYEmU",
        "outputId": "a6626353-a8f0-4aeb-ec67-7d5e30ca81ff"
      },
      "execution_count": null,
      "outputs": [
        {
          "output_type": "stream",
          "name": "stdout",
          "text": [
            "*****\n",
            " ****\n",
            "  ***\n",
            "   **\n",
            "    *\n"
          ]
        }
      ]
    },
    {
      "cell_type": "code",
      "source": [
        "rows = 5\n",
        "for i in range(0,rows):\n",
        "  for j in range(0,i+1):\n",
        "    if j ==0:\n",
        "      print(\" \"*(rows-i)+ \"**\", end=\"\")\n",
        "    else:\n",
        "      print(\"*\"*2, end=\"\")   \n",
        "  print()"
      ],
      "metadata": {
        "colab": {
          "base_uri": "https://localhost:8080/"
        },
        "id": "osuj89Cyg022",
        "outputId": "0d387a12-a4ba-4565-fa06-15411b368954"
      },
      "execution_count": null,
      "outputs": [
        {
          "output_type": "stream",
          "name": "stdout",
          "text": [
            "     **\n",
            "    ****\n",
            "   ******\n",
            "  ********\n",
            " **********\n"
          ]
        }
      ]
    },
    {
      "cell_type": "code",
      "source": [
        "rows = 5\n",
        "for i in range(1,rows+1):\n",
        "  print(\" \"*(rows-i)+\"*\" * i*2)"
      ],
      "metadata": {
        "colab": {
          "base_uri": "https://localhost:8080/"
        },
        "id": "YVnElz2JYTvT",
        "outputId": "f48f289c-9b93-4cd9-cc21-eb15da39e047"
      },
      "execution_count": null,
      "outputs": [
        {
          "output_type": "stream",
          "name": "stdout",
          "text": [
            "    **\n",
            "   ****\n",
            "  ******\n",
            " ********\n",
            "**********\n"
          ]
        }
      ]
    },
    {
      "cell_type": "markdown",
      "source": [
        "ters olarak da çiz "
      ],
      "metadata": {
        "id": "ezOOBn4ah0hH"
      }
    },
    {
      "cell_type": "code",
      "source": [
        "number = int(input(\"Lütfen bir sayı giriniz:\"))\n",
        "count =0\n",
        "\n",
        "for i in range(number +1):\n",
        "  count +=i\n",
        "print(\"Toplam:\",count)"
      ],
      "metadata": {
        "colab": {
          "base_uri": "https://localhost:8080/"
        },
        "id": "h6DFn5LWrQyk",
        "outputId": "e5d9094d-0e98-4eb3-8127-50b7897daab6"
      },
      "execution_count": null,
      "outputs": [
        {
          "output_type": "stream",
          "name": "stdout",
          "text": [
            "Lütfen bir sayı giriniz:5\n",
            "Toplam: 15\n"
          ]
        }
      ]
    },
    {
      "cell_type": "code",
      "source": [
        "#Toplama işlemi esnasında eğer o anki sayı 5'e tam bölünebilen bir sayıysa o değeri eklemeden işlemi yap. continue ifasei kullan\n",
        "number = int(input(\"Lütfen bir sayı giriniz:\"))\n",
        "count =0\n",
        "\n",
        "for i in range(number +1):\n",
        "  if i % 5 ==0:\n",
        "    continue\n",
        "  else:  \n",
        "    count +=i\n",
        "print(\"Toplam:\",count)"
      ],
      "metadata": {
        "colab": {
          "base_uri": "https://localhost:8080/"
        },
        "id": "ehmHCpUEsy_Q",
        "outputId": "fa70e13c-facb-4086-954b-8cefb389df26"
      },
      "execution_count": null,
      "outputs": [
        {
          "output_type": "stream",
          "name": "stdout",
          "text": [
            "Lütfen bir sayı giriniz:5\n",
            "Toplam: 10\n"
          ]
        }
      ]
    },
    {
      "cell_type": "code",
      "source": [
        "number = int(input(\"Lütfen bir sayı giriniz:\"))\n",
        "total =0\n",
        "\n",
        "for i in range(1,number +1):\n",
        "  if i % 5 !=0:\n",
        "    print(i)\n",
        "    total +=i\n",
        "  else:  \n",
        "    print(\"Continue\")\n",
        "    continue\n",
        "print(\"Sayıların Toplamı (5'e bölünenler hariç):\",total)\n"
      ],
      "metadata": {
        "colab": {
          "base_uri": "https://localhost:8080/"
        },
        "id": "fbAOwSBDuiBw",
        "outputId": "fa15de73-177e-4edc-9c07-0ed641a605cd"
      },
      "execution_count": null,
      "outputs": [
        {
          "output_type": "stream",
          "name": "stdout",
          "text": [
            "Lütfen bir sayı giriniz:5\n",
            "1\n",
            "2\n",
            "3\n",
            "4\n",
            "Continue\n",
            "Sayıların Toplamı (5'e bölünenler hariç): 10\n"
          ]
        }
      ]
    },
    {
      "cell_type": "code",
      "source": [
        "sayi = int(input(\"Bir sayı giriniz:\"))\n",
        "count=0\n",
        "toplam=0\n",
        "while count <= sayi:\n",
        "  toplam += count\n",
        "  count+=1\n",
        "print(\"Toplam:\",toplam)"
      ],
      "metadata": {
        "colab": {
          "base_uri": "https://localhost:8080/"
        },
        "id": "eCY_vQC2qjhS",
        "outputId": "5bf613eb-47a1-4da0-b759-ac3f7f96416c"
      },
      "execution_count": null,
      "outputs": [
        {
          "output_type": "stream",
          "name": "stdout",
          "text": [
            "bir sayı giriniz:5\n",
            "Toplam: 15\n"
          ]
        }
      ]
    },
    {
      "cell_type": "code",
      "source": [
        "#Bir sayının kaç basamaklı olduğunu bulalım\n",
        "\n",
        "x = 23649328\n",
        "bas_deger = 0\n",
        "\n",
        "while x>0:\n",
        "  x = x//10\n",
        "  bas_deger +=1\n",
        "\n",
        "print(bas_deger)"
      ],
      "metadata": {
        "colab": {
          "base_uri": "https://localhost:8080/"
        },
        "id": "GNIp-ZV-u47o",
        "outputId": "4ec3bd3d-632f-47ba-e449-85912bdf4a0c"
      },
      "execution_count": null,
      "outputs": [
        {
          "output_type": "stream",
          "name": "stdout",
          "text": [
            "8\n"
          ]
        }
      ]
    },
    {
      "cell_type": "code",
      "source": [
        "#kullanıcıdan bir değer alıp ardından hem alt alta hem yan yana yazdırın\n",
        "number = int(input(\"Lütfen bir sayı giriniz:\"))\n",
        "\n",
        "for i in range(number,0,-1):\n",
        "  for j in range(i,0,-1):\n",
        "    print(j , end=\" \")\n",
        "  print()  "
      ],
      "metadata": {
        "colab": {
          "base_uri": "https://localhost:8080/"
        },
        "id": "K-AXeqHEwRaR",
        "outputId": "af3d33f9-3298-4557-d0dd-916326aa9712"
      },
      "execution_count": null,
      "outputs": [
        {
          "output_type": "stream",
          "name": "stdout",
          "text": [
            "Lütfen bir sayı giriniz:5\n",
            "5 4 3 2 1 \n",
            "4 3 2 1 \n",
            "3 2 1 \n",
            "2 1 \n",
            "1 \n"
          ]
        }
      ]
    },
    {
      "cell_type": "code",
      "source": [
        "#bir aralık belirleyip bu aralıktaki tüm asal sayıları ekrana basan kod bloğunu yazalım\n",
        "\n",
        "baslangic_sayisi = int(input(\"Başlangıç sayısını giriniz:\"))\n",
        "bitis_sayisi = int(input(\"Bitiş sayısını giriniz:\"))\n",
        "asallar = []\n",
        "\n",
        "for i in range(baslangic_sayisi, bitis_sayisi,1):\n",
        "  if i> 1:\n",
        "    asal = True\n",
        "\n",
        "    for j in range(2,i):\n",
        "      if i%j == 0:\n",
        "        asal = False\n",
        "        break\n",
        "    if asal: #if asal == TRue\n",
        "      print(i)            "
      ],
      "metadata": {
        "colab": {
          "base_uri": "https://localhost:8080/"
        },
        "id": "-XnMiZBWypkO",
        "outputId": "430f3b6c-acaf-478c-d0e4-3d9577b5beda"
      },
      "execution_count": null,
      "outputs": [
        {
          "output_type": "stream",
          "name": "stdout",
          "text": [
            "Başlangıç sayısını giriniz:1\n",
            "Bitiş sayısını giriniz:18\n",
            "2\n",
            "3\n",
            "5\n",
            "7\n",
            "11\n",
            "13\n",
            "17\n"
          ]
        }
      ]
    },
    {
      "cell_type": "code",
      "source": [
        "#Girilen değere göre fibonacci seri hesaplaması yapalım\n",
        "\n",
        "num1, num2 = 0,1\n",
        "\n",
        "a = int(input(\"Bir deger giriniz: \"))\n",
        "for i in range(a+2):\n",
        "  print(num1, end=\" \")\n",
        "  total = num1+num2\n",
        "\n",
        "  num1 = num2\n",
        "  num2 = total"
      ],
      "metadata": {
        "colab": {
          "base_uri": "https://localhost:8080/"
        },
        "id": "vVTh7gzN310M",
        "outputId": "a2f4fd00-5908-47a2-c745-c0d2c05c4567"
      },
      "execution_count": null,
      "outputs": [
        {
          "output_type": "stream",
          "name": "stdout",
          "text": [
            "Bir deger giriniz: 5\n",
            "0 1 1 2 3 5 8 "
          ]
        }
      ]
    },
    {
      "cell_type": "code",
      "source": [
        "#verilen sayının faktöriyelini hesaplayınız\n",
        "\n",
        "num = int(input(\"bir sayi giriniz: \"))\n",
        "factorial = 1\n",
        "if num == 0 or num2 == 1:\n",
        "  factorial = 1\n",
        "else:\n",
        "  for i in range(2, num+1):\n",
        "    factorial *= i\n",
        "  print(\"Fatoriyel = \", factorial)  "
      ],
      "metadata": {
        "colab": {
          "base_uri": "https://localhost:8080/"
        },
        "id": "oIiqm7_D9sBA",
        "outputId": "ac48ca3d-b9d7-4ab7-a916-4dc977297354"
      },
      "execution_count": null,
      "outputs": [
        {
          "output_type": "stream",
          "name": "stdout",
          "text": [
            "bir sayi giriniz: 5\n",
            "Fatoriyel =  120\n"
          ]
        }
      ]
    },
    {
      "cell_type": "code",
      "source": [
        "#verilen bir tamsayıyı tersten yazın\n",
        "\n",
        "number = 23649328\n",
        "reverse = 0\n",
        "print(\"Girilen deger :\", number)\n",
        "\n",
        "while number > 0:\n",
        "  temp = number % 10\n",
        "  reverse = (reverse *10) + temp\n",
        "  number = number // 10\n",
        "\n",
        "print(\"Ters çevrilmiş sayı: \",reverse)  "
      ],
      "metadata": {
        "colab": {
          "base_uri": "https://localhost:8080/"
        },
        "id": "5Sck7cYa__XJ",
        "outputId": "5ac8cefc-d93c-4215-8197-9f68b8d09478"
      },
      "execution_count": null,
      "outputs": [
        {
          "output_type": "stream",
          "name": "stdout",
          "text": [
            "Girilen deger : 23649328\n",
            "Ters çevrilmiş sayı:  82394632\n"
          ]
        }
      ]
    },
   
    }
  ]
}
