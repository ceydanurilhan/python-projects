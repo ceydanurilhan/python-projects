{
  "nbformat": 4,
  "nbformat_minor": 0,
  "metadata": {
    "colab": {
      "name": "SistersLab-Ders1.ipynb",
      "provenance": [],
      "authorship_tag": "ABX9TyOI87t1bEhlIQcsq7eUPCz2",
      "include_colab_link": true
    },
    "kernelspec": {
      "name": "python3",
      "display_name": "Python 3"
    },
    "language_info": {
      "name": "python"
    }
  },
  "cells": [
    {
      "cell_type": "markdown",
      "metadata": {
        "id": "view-in-github",
        "colab_type": "text"
      },
      "source": [
        "<a href=\"https://colab.research.google.com/github/ceydanurilhan/python-projects/blob/main/SistersLab_Ders1.ipynb\" target=\"_parent\"><img src=\"https://colab.research.google.com/assets/colab-badge.svg\" alt=\"Open In Colab\"/></a>"
      ]
    },
    {
      "cell_type": "code",
      "execution_count": null,
      "metadata": {
        "colab": {
          "base_uri": "https://localhost:8080/"
        },
        "id": "sWNmnVkrYHGZ",
        "outputId": "ecaa0650-4193-4725-e102-274a2e12fec6"
      },
      "outputs": [
        {
          "output_type": "stream",
          "name": "stdout",
          "text": [
            "Hello World!\n"
          ]
        }
      ],
      "source": [
        "print(\"Hello World!\")"
      ]
    },
    {
      "cell_type": "markdown",
      "source": [
        "**Değişkenler**"
      ],
      "metadata": {
        "id": "2doXlcyhYQDA"
      }
    },
    {
      "cell_type": "markdown",
      "source": [
        "Değişkenler bizim hangi dili kullanıyor olursak olalım verilerimizi tutan yapılar. \n",
        "\n",
        "variable_name = variable_value"
      ],
      "metadata": {
        "id": "9Gb9xZcHaMrA"
      }
    },
    {
      "cell_type": "code",
      "source": [
        "name = \"Buket\"\n",
        "age = 28\n",
        "salary = 19000.60\n",
        "\n",
        "print(name)\n",
        "print(age)\n",
        "print(salary)"
      ],
      "metadata": {
        "colab": {
          "base_uri": "https://localhost:8080/"
        },
        "id": "meoVRW9LY4LA",
        "outputId": "4352f755-f1b2-4afa-ed91-cd828b806816"
      },
      "execution_count": null,
      "outputs": [
        {
          "output_type": "stream",
          "name": "stdout",
          "text": [
            "Buket\n",
            "28\n",
            "19000.6\n"
          ]
        }
      ]
    },
    {
      "cell_type": "markdown",
      "source": [
        "- değişkenler küçük büyük harfe duyarlıdır\n",
        "- değişkenler rakamlarla başlayamaz\n",
        "- değişkenin adında birden fazla kelime varsa genel olarak _ ile ayrılır ya da ikinci ismin ilk harfi büyük yazılır\n",
        "- değişkenler genel olarak harf, rakam ve _ kavramlarının birleşimini içeriyor.\n"
      ],
      "metadata": {
        "id": "alG2dNlzZLib"
      }
    },
    {
      "cell_type": "code",
      "source": [
        "person_name = \"Aysel\""
      ],
      "metadata": {
        "id": "gOgTl0yqZq88"
      },
      "execution_count": null,
      "outputs": []
    },
    {
      "cell_type": "markdown",
      "source": [
        "**Bir değişkenin değerini değiştirme**"
      ],
      "metadata": {
        "id": "eDWOYdZkZuyS"
      }
    },
    {
      "cell_type": "markdown",
      "source": [
        "pythonda değişkenlere veri türü belirlemediğimiz için dinamik olarak tür değişimi yapılabilir"
      ],
      "metadata": {
        "id": "0IeIA3nbZyky"
      }
    },
    {
      "cell_type": "code",
      "source": [
        "variable = 25\n",
        "print(variable)"
      ],
      "metadata": {
        "colab": {
          "base_uri": "https://localhost:8080/"
        },
        "id": "dM_SSijdZ6nR",
        "outputId": "35e4da4e-4a83-48e2-af8e-ee8bb7a726e7"
      },
      "execution_count": null,
      "outputs": [
        {
          "output_type": "stream",
          "name": "stdout",
          "text": [
            "25\n"
          ]
        }
      ]
    },
    {
      "cell_type": "markdown",
      "source": [
        "type bir değişkenin veri tipini verir"
      ],
      "metadata": {
        "id": "vO4bdW5_Z_EQ"
      }
    },
    {
      "cell_type": "code",
      "source": [
        "type(variable)"
      ],
      "metadata": {
        "colab": {
          "base_uri": "https://localhost:8080/"
        },
        "id": "SwXcHTEcaCWx",
        "outputId": "3bde02dc-4dfa-4e3f-d642-b8b254a12120"
      },
      "execution_count": null,
      "outputs": [
        {
          "output_type": "execute_result",
          "data": {
            "text/plain": [
              "int"
            ]
          },
          "metadata": {},
          "execution_count": 6
        }
      ]
    },
    {
      "cell_type": "code",
      "source": [
        "variable = \"Merve\"\n",
        "print(variable)"
      ],
      "metadata": {
        "colab": {
          "base_uri": "https://localhost:8080/"
        },
        "id": "_UgRGMG-aSYW",
        "outputId": "92faefc1-693c-4258-c5d9-d8e8b45cca00"
      },
      "execution_count": null,
      "outputs": [
        {
          "output_type": "stream",
          "name": "stdout",
          "text": [
            "Merve\n"
          ]
        }
      ]
    },
    {
      "cell_type": "code",
      "source": [
        "type(variable)"
      ],
      "metadata": {
        "colab": {
          "base_uri": "https://localhost:8080/"
        },
        "id": "iKXAtol9aYAc",
        "outputId": "a7c6c02e-cefd-4b90-8a2e-48adc6f0b6ad"
      },
      "execution_count": null,
      "outputs": [
        {
          "output_type": "execute_result",
          "data": {
            "text/plain": [
              "str"
            ]
          },
          "metadata": {},
          "execution_count": 8
        }
      ]
    },
    {
      "cell_type": "code",
      "source": [
        "name = \"Aysel\"\n",
        "Name = \"Aygül\"\n",
        "\n",
        "print(name)\n",
        "print(Name)"
      ],
      "metadata": {
        "colab": {
          "base_uri": "https://localhost:8080/"
        },
        "id": "y_vShvXtaa3s",
        "outputId": "0f935a61-4731-4bb6-83d5-e77b82c1de03"
      },
      "execution_count": null,
      "outputs": [
        {
          "output_type": "stream",
          "name": "stdout",
          "text": [
            "Aysel\n",
            "Aygül\n"
          ]
        }
      ]
    },
    {
      "cell_type": "markdown",
      "source": [
        "![Python_keywords-1024x485.jpg](data:image/jpeg;base64,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)"
      ],
      "metadata": {
        "id": "ngXLeC_X2Jtj"
      }
    },
    {
      "cell_type": "markdown",
      "source": [
        "**Veri Tipleri**\n",
        "\n",
        "- Int\n",
        "- Float\n",
        "- String\n",
        "- Boolean\n",
        "\n",
        "\n",
        "Int -> virgüllü olmayan tam sayıları tutan veri tipleri"
      ],
      "metadata": {
        "id": "aaGVf4knbIOu"
      }
    },
    {
      "cell_type": "code",
      "source": [
        "age = 30\n",
        "type(age)"
      ],
      "metadata": {
        "colab": {
          "base_uri": "https://localhost:8080/"
        },
        "id": "mLTBWQ11a_05",
        "outputId": "1e81a4a2-6b5c-4860-e9e8-cc8163288a61"
      },
      "execution_count": null,
      "outputs": [
        {
          "output_type": "execute_result",
          "data": {
            "text/plain": [
              "int"
            ]
          },
          "metadata": {},
          "execution_count": 15
        }
      ]
    },
    {
      "cell_type": "markdown",
      "source": [
        "float -> virgüllü ifadeleri tutan değişken ifadelerimiz"
      ],
      "metadata": {
        "id": "-AmQ8BXjbaDx"
      }
    },
    {
      "cell_type": "code",
      "source": [
        "salary = 1000.4\n",
        "type(salary)"
      ],
      "metadata": {
        "colab": {
          "base_uri": "https://localhost:8080/"
        },
        "id": "pVi0T9vmbfCU",
        "outputId": "a329a579-7540-40de-ddc3-a48aa9b13c20"
      },
      "execution_count": null,
      "outputs": [
        {
          "output_type": "execute_result",
          "data": {
            "text/plain": [
              "float"
            ]
          },
          "metadata": {},
          "execution_count": 14
        }
      ]
    },
    {
      "cell_type": "markdown",
      "source": [
        "boolean -> true ya da false değerleri tutan değişkenler"
      ],
      "metadata": {
        "id": "u78NZW1SbkqJ"
      }
    },
    {
      "cell_type": "code",
      "source": [
        "isNumber = False\n",
        "type(isNumber)"
      ],
      "metadata": {
        "colab": {
          "base_uri": "https://localhost:8080/"
        },
        "id": "_rq1_7gQbpuS",
        "outputId": "f1a3c580-092f-49df-9767-bab5a384ddce"
      },
      "execution_count": null,
      "outputs": [
        {
          "output_type": "execute_result",
          "data": {
            "text/plain": [
              "bool"
            ]
          },
          "metadata": {},
          "execution_count": 13
        }
      ]
    },
    {
      "cell_type": "markdown",
      "source": [
        "String -> string tırnak içinde gösterilen bir dizi karakterler dizisi. tek ya da çift tırnak içerisine yazılır"
      ],
      "metadata": {
        "id": "WcBoUJ4zbtfb"
      }
    },
    {
      "cell_type": "code",
      "source": [
        "name = \"Ceyda\"\n",
        "print(name)"
      ],
      "metadata": {
        "colab": {
          "base_uri": "https://localhost:8080/"
        },
        "id": "xqz1xVJUb3_W",
        "outputId": "ea92a096-f077-40e7-f62c-4177ebff85fb"
      },
      "execution_count": null,
      "outputs": [
        {
          "output_type": "stream",
          "name": "stdout",
          "text": [
            "Ceyda\n"
          ]
        }
      ]
    },
    {
      "cell_type": "code",
      "source": [
        "print(name[0])"
      ],
      "metadata": {
        "colab": {
          "base_uri": "https://localhost:8080/"
        },
        "id": "qaXu60YPb-Y6",
        "outputId": "12c33f78-103c-4408-b1b1-4084d0f24160"
      },
      "execution_count": null,
      "outputs": [
        {
          "output_type": "stream",
          "name": "stdout",
          "text": [
            "M\n"
          ]
        }
      ]
    },
    {
      "cell_type": "markdown",
      "source": [
        "diziler indexlerken 0 dan başlar"
      ],
      "metadata": {
        "id": "2NKm3x05cES1"
      }
    },
    {
      "cell_type": "code",
      "source": [
        "print(name[1:3])"
      ],
      "metadata": {
        "colab": {
          "base_uri": "https://localhost:8080/"
        },
        "id": "GH4O78sycHsB",
        "outputId": "4b43740c-5267-4293-d54a-f26b031508cb"
      },
      "execution_count": null,
      "outputs": [
        {
          "output_type": "stream",
          "name": "stdout",
          "text": [
            "er\n"
          ]
        }
      ]
    },
    {
      "cell_type": "code",
      "source": [
        "print(len(name))"
      ],
      "metadata": {
        "colab": {
          "base_uri": "https://localhost:8080/"
        },
        "id": "lb9Egp1gcUeY",
        "outputId": "c9772edb-112c-4308-92a2-d2f46274de11"
      },
      "execution_count": null,
      "outputs": [
        {
          "output_type": "stream",
          "name": "stdout",
          "text": [
            "5\n"
          ]
        }
      ]
    },
    {
      "cell_type": "code",
      "source": [
        "print(name + \" İlhan\") #iki stringi birleştirebiliriz"
      ],
      "metadata": {
        "colab": {
          "base_uri": "https://localhost:8080/"
        },
        "id": "Sq0u0b1ccwH7",
        "outputId": "0350a8fa-ed41-4fcd-e9e6-ede09d3076e9"
      },
      "execution_count": null,
      "outputs": [
        {
          "output_type": "stream",
          "name": "stdout",
          "text": [
            "Ceyda İlhan\n"
          ]
        }
      ]
    },
    {
      "cell_type": "code",
      "source": [
        "print(type(name))"
      ],
      "metadata": {
        "colab": {
          "base_uri": "https://localhost:8080/"
        },
        "id": "GWmhn7E1c8UM",
        "outputId": "d27aa929-a357-4d2e-c761-fb3ae15acc8f"
      },
      "execution_count": null,
      "outputs": [
        {
          "output_type": "stream",
          "name": "stdout",
          "text": [
            "<class 'str'>\n"
          ]
        }
      ]
    },
    {
      "cell_type": "markdown",
      "source": [
        "**Python'da Çoklu Atama İşlemleri**"
      ],
      "metadata": {
        "id": "9Y6ht015dFdj"
      }
    },
    {
      "cell_type": "code",
      "source": [
        "num1 = num2 = num3 = 25\n",
        "print(num2)"
      ],
      "metadata": {
        "colab": {
          "base_uri": "https://localhost:8080/"
        },
        "id": "-HxtO5XBm3hK",
        "outputId": "d17ee1f6-8062-4f2c-b4d2-f4012d676e35"
      },
      "execution_count": null,
      "outputs": [
        {
          "output_type": "stream",
          "name": "stdout",
          "text": [
            "25\n"
          ]
        }
      ]
    },
    {
      "cell_type": "code",
      "source": [
        "#pythonda tek satırda birden fazla değişkene aynı değeri verebiliyoruz\n",
        "num1 = num2 = num3 = 25\n",
        "print(num2)"
      ],
      "metadata": {
        "colab": {
          "base_uri": "https://localhost:8080/"
        },
        "id": "aSUryygSdR15",
        "outputId": "621ed6e2-a723-450d-b8a6-a69e842a8079"
      },
      "execution_count": null,
      "outputs": [
        {
          "output_type": "stream",
          "name": "stdout",
          "text": [
            "25\n"
          ]
        }
      ]
    },
    {
      "cell_type": "code",
      "source": [
        "name, age, salary = \"Buket\", 28, 19000.50\n",
        "\n",
        "print(name)\n",
        "print(age)\n",
        "print(salary)"
      ],
      "metadata": {
        "colab": {
          "base_uri": "https://localhost:8080/"
        },
        "id": "Ucbl9wz8nTYi",
        "outputId": "1241c9da-777c-4cf0-e207-adceaa2e1b10"
      },
      "execution_count": null,
      "outputs": [
        {
          "output_type": "stream",
          "name": "stdout",
          "text": [
            "Buket\n",
            "28\n",
            "19000.5\n"
          ]
        }
      ]
    },
    {
      "cell_type": "code",
      "source": [
        "#pythonda tek satırda birden fazla değişkene farklı değerleri de atayabiliriz\n",
        "name, age, salary = \"Buket\", 28, 19000.50\n",
        "\n",
        "print(name)\n",
        "print(age)\n",
        "print(salary)"
      ],
      "metadata": {
        "colab": {
          "base_uri": "https://localhost:8080/"
        },
        "id": "o-0_ow7vdi_5",
        "outputId": "2e3b4a11-9cc6-41b1-f518-fc1736546048"
      },
      "execution_count": null,
      "outputs": [
        {
          "output_type": "stream",
          "name": "stdout",
          "text": [
            "Buket\n",
            "28\n",
            "19000.5\n"
          ]
        }
      ]
    },
    {
      "cell_type": "markdown",
      "source": [
        "**Değişkenlerde kapsam**\n",
        "\n",
        "Bir değişkenin kapsamı o değişkene nereden erişebileceğimizi anlatıyor.\n",
        "yerel ve global değişkenler vardır\n",
        "\n",
        "yerel değişkenler -> yalnızca tanımlandığı yerdeki blok içerisinde erişilebilir. tanımlandığı metod içinden erişebiliriz tanımlanmadığı yerden erişmeye çalışırsak hata alırız."
      ],
      "metadata": {
        "id": "FtG4LGh4er3q"
      }
    },
    {
      "cell_type": "code",
      "source": [
        "def getSalary1():\n",
        "  price = 500\n",
        "  print(\"Salary1\",price)\n",
        "\n",
        "def getSalary2():\n",
        "  print(\"Salary2\",price)  \n",
        "\n",
        "getSalary1()  \n",
        "getSalary2() #NameError: name 'price' is not defined"
      ],
      "metadata": {
        "id": "6UAnx62JfIT1"
      },
      "execution_count": null,
      "outputs": []
    },
    {
      "cell_type": "markdown",
      "source": [
        "**Gloabal Değişkenler**\n",
        "\n",
        "global değişken -> Metodun dışında tanımlandığı için dosyada herhangi bir yerden erişebiliriz bu değişkenlere\n",
        "\n"
      ],
      "metadata": {
        "id": "xOF1PGBkfsgT"
      }
    },
    {
      "cell_type": "code",
      "source": [
        "price = 500\n",
        "\n",
        "def getSalary1():\n",
        "  print(\"Salary1\",price)\n",
        "\n",
        "def getSalary2():\n",
        "  print(\"Saalry2\",price) \n",
        "\n",
        "getSalary1()\n",
        "getSalary2()   "
      ],
      "metadata": {
        "colab": {
          "base_uri": "https://localhost:8080/"
        },
        "id": "sPV-fShEf73i",
        "outputId": "d7a5a2e6-63b8-47f8-dd46-fa8cfa8a9dac"
      },
      "execution_count": null,
      "outputs": [
        {
          "output_type": "stream",
          "name": "stdout",
          "text": [
            "Salary1 500\n",
            "Saalry2 500\n"
          ]
        }
      ]
    },
    {
      "cell_type": "code",
      "source": [
        "price = 500\n",
        "\n",
        "def getSalary1():\n",
        "  price = 600\n",
        "  print(\"Salary1\",price)\n",
        "\n",
        "def getSalary2():\n",
        "  print(\"Salary2\",price) \n",
        "\n",
        "getSalary1()\n",
        "getSalary2() "
      ],
      "metadata": {
        "colab": {
          "base_uri": "https://localhost:8080/"
        },
        "id": "HrpWxpYjgSOl",
        "outputId": "63c50ec4-0352-4c7b-e5b6-eec704841d89"
      },
      "execution_count": null,
      "outputs": [
        {
          "output_type": "stream",
          "name": "stdout",
          "text": [
            "Salary1 600\n",
            "Saalry2 500\n"
          ]
        }
      ]
    },
    {
      "cell_type": "markdown",
      "source": [
        "Globalde tanımlı price değerinin değiştirilmesi"
      ],
      "metadata": {
        "id": "BitPzWlAg4q8"
      }
    },
    {
      "cell_type": "code",
      "source": [
        "price = 500\n",
        "\n",
        "def getSalary1():\n",
        "  global price\n",
        "  price = 600 #Global Değişken\n",
        "  print(price)\n",
        "\n",
        "def getSalary2():\n",
        "  print(price)\n",
        "\n",
        "print(\"1\",price)\n",
        "getSalary1()\n",
        "print(\"2\",price)\n",
        "getSalary2()\n",
        "print(\"3\",price)    "
      ],
      "metadata": {
        "colab": {
          "base_uri": "https://localhost:8080/"
        },
        "id": "icYVePOPg3Ha",
        "outputId": "aae7f05e-98a0-4f63-df5f-c84686d1cec7"
      },
      "execution_count": null,
      "outputs": [
        {
          "output_type": "stream",
          "name": "stdout",
          "text": [
            "1 500\n",
            "600\n",
            "2 600\n",
            "600\n",
            "3 600\n"
          ]
        }
      ]
    },
    {
      "cell_type": "markdown",
      "source": [
        "**Operatörler**\n",
        "\n",
        "Matematiksel operatörler\n",
        " \n",
        "- toplama \n",
        "- çıkarma\n",
        "- çarpma\n",
        "- bölme \n",
        "- integer bölme\n",
        "- mod alma\n",
        "- üst alma"
      ],
      "metadata": {
        "id": "A-iQUuFdjE8u"
      }
    },
    {
      "cell_type": "code",
      "source": [
        "print(\"1+1 \", 1+1)\n",
        "print(\"6-1 \", 6-1)\n",
        "print(\"2*3 \", 2*3)\n",
        "print(\"6/3 \", 6/3) #float değer döner\n",
        "print(\"6//4 \", 6//4) #int değer döner\n",
        "print(\"int(6/3) \", int(6/3)) #inte dönüştürme\n",
        "print(\"6%4 \", 6%4) #mod alma 6 nın 4'e bölümünden kalan değer\n",
        "print(\"2**3 \", 2**3) #üst alma\n"
      ],
      "metadata": {
        "colab": {
          "base_uri": "https://localhost:8080/"
        },
        "id": "IXQ9gI6SjbAy",
        "outputId": "48290d9d-0dc6-44fa-f7d3-63400edc00c1"
      },
      "execution_count": null,
      "outputs": [
        {
          "output_type": "stream",
          "name": "stdout",
          "text": [
            "1+1  2\n",
            "6-1  5\n",
            "2*3  6\n",
            "6/3  2.0\n",
            "6//4  1\n",
            "int(6/3)  2\n",
            "6%4  2\n",
            "2**3  8\n"
          ]
        }
      ]
    },
    {
      "cell_type": "markdown",
      "source": [
        "**ilişkisel (karşılaştırma) operatörleri**\n",
        "\n",
        "**>** büyüktür\n",
        "\n",
        "**<** küçüktür\n",
        "\n",
        "**<=** küçük eşittir\n",
        "\n",
        "**>=** büyük eşittir\n",
        "\n",
        "**==** eşittir\n",
        "\n",
        "**!=** eşit değildir"
      ],
      "metadata": {
        "id": "HuBwJjqQlhM3"
      }
    },
    {
      "cell_type": "code",
      "source": [
        "a = 10\n",
        "b = 7\n",
        "\n",
        "print(a > b)\n",
        "print(a < b)\n",
        "print(a <= b)\n",
        "print(a >= b)\n",
        "print(a == b)\n",
        "print(a != b)\n"
      ],
      "metadata": {
        "colab": {
          "base_uri": "https://localhost:8080/"
        },
        "id": "e5jnWzKil9J_",
        "outputId": "7b29f18d-3302-474f-e145-4e25024ace85"
      },
      "execution_count": null,
      "outputs": [
        {
          "output_type": "stream",
          "name": "stdout",
          "text": [
            "True\n",
            "False\n",
            "False\n",
            "True\n",
            "False\n",
            "True\n"
          ]
        }
      ]
    },
    {
      "cell_type": "markdown",
      "source": [
        "**Atama Operatörleri**\n",
        "\n",
        "Değişkenlere belirli değerleri atama yapıyoruz. = operatörü ile değişkenlere değerler veriyoruz.\n",
        "\n",
        "=,+=,-=,/=,*=,//="
      ],
      "metadata": {
        "id": "ayjOqJxtmrgt"
      }
    },
    {
      "cell_type": "code",
      "source": [
        "x = 1\n",
        "print(\"İlk Değer \",x)\n",
        "x += 1 #x = x+1\n",
        "print(\"Arttırma \",x)\n",
        "\n",
        "x -= 1\n",
        "print(\"Azaltma \",x)\n",
        "\n",
        "x *= 2\n",
        "print(\"Çarpma \",x)\n",
        "\n",
        "x /= 2\n",
        "print(\"Bölme \",x)\n",
        "\n",
        "x=2\n",
        "x //= 2\n",
        "print(\"Int Bölme \",x)"
      ],
      "metadata": {
        "colab": {
          "base_uri": "https://localhost:8080/"
        },
        "id": "ln2XP8qunPRL",
        "outputId": "e72e11cc-8775-44b6-fad2-5503e464339f"
      },
      "execution_count": null,
      "outputs": [
        {
          "output_type": "stream",
          "name": "stdout",
          "text": [
            "İlk Değer  1\n",
            "Arttırma  2\n",
            "Azaltma  1\n",
            "Çarpma  2\n",
            "Bölme  1.0\n",
            "Int Bölme  1\n"
          ]
        }
      ]
    },
    {
      "cell_type": "markdown",
      "source": [
        "**Atama Operatörleri**\n",
        "\n",
        "or and"
      ],
      "metadata": {
        "id": "2kjXA8NTJYC8"
      }
    },
    {
      "cell_type": "markdown",
      "source": [
        "**print() ve format()**\n",
        "\n",
        "print metodunu ekrana bir şey basmak için kullanıyoruz."
      ],
      "metadata": {
        "id": "ylwIYZ3lwd5u"
      }
    },
    {
      "cell_type": "code",
      "source": [
        "name = \"Ebrar\"\n",
        "print(\"Adı: \", name)"
      ],
      "metadata": {
        "colab": {
          "base_uri": "https://localhost:8080/"
        },
        "id": "YOJ15afiwlHe",
        "outputId": "0649209c-0505-46d6-e3d5-248f827473c8"
      },
      "execution_count": null,
      "outputs": [
        {
          "output_type": "stream",
          "name": "stdout",
          "text": [
            "Adı:  Ebrar\n"
          ]
        }
      ]
    },
    {
      "cell_type": "code",
      "source": [
        "print(\"Adınızı girin: \")\n",
        "name = input()\n",
        "print(\"Girdiğiniz isim: \",name)"
      ],
      "metadata": {
        "colab": {
          "base_uri": "https://localhost:8080/"
        },
        "id": "DFlkSoVIwvK_",
        "outputId": "c23eb7c6-86d7-4b4b-ce3c-662f4552dd5f"
      },
      "execution_count": null,
      "outputs": [
        {
          "output_type": "stream",
          "name": "stdout",
          "text": [
            "Adınızı girin: \n",
            "ece\n",
            "Girdiğiniz isim:  ece\n"
          ]
        }
      ]
    },
    {
      "cell_type": "code",
      "source": [
        "print(\"Yaş bilgisini girin:\")\n",
        "age = int(input())\n",
        "print(\"Kullanıcının Yaşı: \", age)"
      ],
      "metadata": {
        "colab": {
          "base_uri": "https://localhost:8080/"
        },
        "id": "XuU0MkTVxU9g",
        "outputId": "e90e6d6c-d1d4-4b79-e74d-2849b91a538b"
      },
      "execution_count": null,
      "outputs": [
        {
          "output_type": "stream",
          "name": "stdout",
          "text": [
            "Yaş bilgisini girin:\n",
            "10\n",
            "Kullanıcının Yaşı:  10\n"
          ]
        }
      ]
    },
    {
      "cell_type": "code",
      "source": [
        "print(\"Maaş Bilgisini Giriniz: \")\n",
        "salary = float(input())\n",
        "\n",
        "print(\"Kullanıcıya bu ay {} lira yatacak\".format(salary))"
      ],
      "metadata": {
        "colab": {
          "base_uri": "https://localhost:8080/"
        },
        "id": "gtJvp8yExnW_",
        "outputId": "527bc980-aeca-478b-8b94-c1fc46f702e1"
      },
      "execution_count": null,
      "outputs": [
        {
          "output_type": "stream",
          "name": "stdout",
          "text": [
            "Maaş Bilgisini Giriniz: \n",
            "500\n",
            "Kullanıcıya bu ay 500.0 lira yatacak\n"
          ]
        }
      ]
    },
    {
      "cell_type": "code",
      "source": [
        "name = \"Aysel\"\n",
        "salary = 1300\n",
        "\n",
        "print(\"{} kişisine bu ay {} lira yatacak\".format(name,salary))"
      ],
      "metadata": {
        "colab": {
          "base_uri": "https://localhost:8080/"
        },
        "id": "sA9uLnm2yTgh",
        "outputId": "16667a3f-35c1-4ce3-b1d0-3b6cc42364be"
      },
      "execution_count": null,
      "outputs": [
        {
          "output_type": "stream",
          "name": "stdout",
          "text": [
            "Aysel kişisine bu ay 1300 lira yatacak\n"
          ]
        }
      ]
    },
    {
      "cell_type": "markdown",
      "source": [
        "**Python comments**\n",
        "\n",
        "Yorum satırları açıklamalar için yapılır # işareti ile başlar \n",
        "\n",
        "Çoklu yorum satırı eklemek istediğimizde de ''' ile başlar ''' ile kapatırız.\n",
        "\n",
        "refactor -> yazılan kodun zamanla daha anlaşılır hale getirilmesi için yapılan işlem\n",
        "\n"
      ],
      "metadata": {
        "id": "gEklzJx3yxbH"
      }
    },
    {
      "cell_type": "code",
      "source": [
        "#print(\"Tek satırlı yorum ekleme\")\n",
        "print(\"selam\")"
      ],
      "metadata": {
        "id": "fpWVuLdbzbvT",
        "colab": {
          "base_uri": "https://localhost:8080/"
        },
        "outputId": "3b2a549c-cf57-4f9e-cb54-c989e670f055"
      },
      "execution_count": null,
      "outputs": [
        {
          "output_type": "stream",
          "name": "stdout",
          "text": [
            "selam\n"
          ]
        }
      ]
    },
    {
      "cell_type": "code",
      "source": [
        "'''\n",
        "Çoklu satırda yorum ekleme\n",
        "print(\"1.selam\")\n",
        "print(\"2.selam\")\n",
        "print(\"3.selam\")\n",
        "'''\n",
        "print(\"4.selam\")"
      ],
      "metadata": {
        "colab": {
          "base_uri": "https://localhost:8080/"
        },
        "id": "m7yOirnwzyvo",
        "outputId": "2a82623d-0818-400b-b0a8-733890d874ef"
      },
      "execution_count": null,
      "outputs": [
        {
          "output_type": "stream",
          "name": "stdout",
          "text": [
            "4.selam\n"
          ]
        }
      ]
    },
    {
      "cell_type": "code",
      "source": [
        "print(\"helloooo\") #bu kod satırı ekrana bir text basar\n",
        "\n",
        "#bu kod satırı ekrana bir text basar\n",
        "print(\"World\")"
      ],
      "metadata": {
        "colab": {
          "base_uri": "https://localhost:8080/"
        },
        "id": "UIWD6eXu0Ij3",
        "outputId": "4a48e8b5-7b00-42b5-b74f-b281dee36735"
      },
      "execution_count": null,
      "outputs": [
        {
          "output_type": "stream",
          "name": "stdout",
          "text": [
            "helloooo\n",
            "World\n"
          ]
        }
      ]
    },
    {
      "cell_type": "markdown",
      "source": [
        "**Tip Dönüşümü**\n"
      ],
      "metadata": {
        "id": "NL87yiHd0iDl"
      }
    },
    {
      "cell_type": "code",
      "source": [
        "number = 9\n",
        "language = \"Python\"\n",
        "result = 100.4\n",
        "\n",
        "print(number)\n",
        "print(language)\n",
        "print(result)"
      ],
      "metadata": {
        "colab": {
          "base_uri": "https://localhost:8080/"
        },
        "id": "0guv6-fW0lIn",
        "outputId": "e4fe43d4-ddf2-4367-973e-f8012a1bf830"
      },
      "execution_count": null,
      "outputs": [
        {
          "output_type": "stream",
          "name": "stdout",
          "text": [
            "9\n",
            "Python\n",
            "100.4\n"
          ]
        }
      ]
    },
    {
      "cell_type": "code",
      "source": [
        "print(float(number)) # int -> float"
      ],
      "metadata": {
        "colab": {
          "base_uri": "https://localhost:8080/"
        },
        "id": "A5-UYBVg09ex",
        "outputId": "c2695fa5-8fb3-4865-87b2-2bcddd0acc92"
      },
      "execution_count": null,
      "outputs": [
        {
          "output_type": "stream",
          "name": "stdout",
          "text": [
            "9.0\n"
          ]
        }
      ]
    },
    {
      "cell_type": "code",
      "source": [
        "print(int(result)) #float -> int"
      ],
      "metadata": {
        "colab": {
          "base_uri": "https://localhost:8080/"
        },
        "id": "sRu8Sv051Hyn",
        "outputId": "f1b05bd1-a18e-4312-b089-c70ff50ff05f"
      },
      "execution_count": null,
      "outputs": [
        {
          "output_type": "stream",
          "name": "stdout",
          "text": [
            "100\n"
          ]
        }
      ]
    },
    {
      "cell_type": "code",
      "source": [
        "print(int(\"75\")) #str->int"
      ],
      "metadata": {
        "colab": {
          "base_uri": "https://localhost:8080/"
        },
        "id": "lyS5eAcs1cH8",
        "outputId": "3254e1fc-3706-4a9a-daf7-df319d7042a9"
      },
      "execution_count": null,
      "outputs": [
        {
          "output_type": "stream",
          "name": "stdout",
          "text": [
            "75\n"
          ]
        }
      ]
    },
    {
      "cell_type": "code",
      "source": [
        "print(int(True))"
      ],
      "metadata": {
        "colab": {
          "base_uri": "https://localhost:8080/"
        },
        "id": "lXtjvkLB1fh9",
        "outputId": "46033839-b76d-41cb-e284-3b079b234814"
      },
      "execution_count": null,
      "outputs": [
        {
          "output_type": "stream",
          "name": "stdout",
          "text": [
            "1\n"
          ]
        }
      ]
    },
    {
      "cell_type": "code",
      "source": [
        "print(int(False))"
      ],
      "metadata": {
        "colab": {
          "base_uri": "https://localhost:8080/"
        },
        "id": "H2CavVRi1rSG",
        "outputId": "48b76c68-1c67-4665-e555-5084369044b7"
      },
      "execution_count": null,
      "outputs": [
        {
          "output_type": "stream",
          "name": "stdout",
          "text": [
            "0\n"
          ]
        }
      ]
    },
    {
      "cell_type": "code",
      "source": [
        "print(bool(1))"
      ],
      "metadata": {
        "colab": {
          "base_uri": "https://localhost:8080/"
        },
        "id": "XWRaXvyW1ucp",
        "outputId": "bf38627d-69ef-4abb-88a1-87f96aa0f4cb"
      },
      "execution_count": null,
      "outputs": [
        {
          "output_type": "stream",
          "name": "stdout",
          "text": [
            "True\n"
          ]
        }
      ]
    },
    {
      "cell_type": "code",
      "source": [
        "print(bool(0))"
      ],
      "metadata": {
        "colab": {
          "base_uri": "https://localhost:8080/"
        },
        "id": "j-0hS9MH1xCQ",
        "outputId": "f18ebb70-2317-41d7-ec6b-671b506bc3fd"
      },
      "execution_count": null,
      "outputs": [
        {
          "output_type": "stream",
          "name": "stdout",
          "text": [
            "False\n"
          ]
        }
      ]
    },
    {
      "cell_type": "code",
      "source": [
        "print(bool(-5))"
      ],
      "metadata": {
        "colab": {
          "base_uri": "https://localhost:8080/"
        },
        "id": "h5uSJFP51__o",
        "outputId": "c720d013-8959-47b6-aad0-ade16b27b459"
      },
      "execution_count": null,
      "outputs": [
        {
          "output_type": "stream",
          "name": "stdout",
          "text": [
            "True\n"
          ]
        }
      ]
    },
    {
      "cell_type": "markdown",
      "source": [
        "boolean 0 dışındaki değerlere True döner, 0'a false döner"
      ],
      "metadata": {
        "id": "AZr4YZ_M2DlV"
      }
    },
    {
      "cell_type": "markdown",
      "source": [
        "**Karar Yapıları**\n",
        "\n",
        "**>** büyüktür\n",
        "\n",
        "< küçüktür\n",
        "\n",
        "<= küçük eşittir\n",
        "\n",
        "**>=** büyük eşittir\n",
        "\n",
        "== eşittir\n",
        "\n",
        "!= eşit değildir"
      ],
      "metadata": {
        "id": "kH7-sNTF2Sw5"
      }
    },
    {
      "cell_type": "code",
      "source": [
        "x = 67\n",
        "y = 106\n",
        "\n",
        "if y > x:\n",
        "  print(\"y x ten büyüktür.\")"
      ],
      "metadata": {
        "colab": {
          "base_uri": "https://localhost:8080/"
        },
        "id": "TitrqTN52NUp",
        "outputId": "d2f72c4f-34f5-4b19-dc90-60a20fff826f"
      },
      "execution_count": null,
      "outputs": [
        {
          "output_type": "stream",
          "name": "stdout",
          "text": [
            "y x ten büyüktür.\n"
          ]
        }
      ]
    },
    {
      "cell_type": "code",
      "source": [
        "a = 28\n",
        "b = 28\n",
        "\n",
        "if b>a:\n",
        "  print(\"b a'dan büyüktür\")\n",
        "\n",
        "elif a == b:\n",
        "  print(\"a b'ye eşittir\")\n",
        "  \n",
        "    "
      ],
      "metadata": {
        "colab": {
          "base_uri": "https://localhost:8080/"
        },
        "id": "UaRgFSIF3H7x",
        "outputId": "a44311c2-a670-4ebb-9917-671e4776e89f"
      },
      "execution_count": null,
      "outputs": [
        {
          "output_type": "stream",
          "name": "stdout",
          "text": [
            "a b'ye eşittir\n"
          ]
        }
      ]
    },
    {
      "cell_type": "code",
      "source": [
        "a = 340\n",
        "b = 232\n",
        "\n",
        "if b>a:\n",
        "  print(\"b a'dan büyüktür\")\n",
        "\n",
        "elif a == b:\n",
        "  print(\"b a'ya eşittir\")\n",
        "  print(\"Selam\")\n",
        "\n",
        "else:\n",
        "  print(\"a b'den büyüktür\")"
      ],
      "metadata": {
        "colab": {
          "base_uri": "https://localhost:8080/"
        },
        "id": "8uj216Q43wM4",
        "outputId": "190e8f69-5717-4d9a-a578-5acd18093596"
      },
      "execution_count": null,
      "outputs": [
        {
          "output_type": "stream",
          "name": "stdout",
          "text": [
            "a b'den büyüktür\n"
          ]
        }
      ]
    },
    {
      "cell_type": "markdown",
      "source": [
        "**İç içe kontrol yapıları**"
      ],
      "metadata": {
        "id": "KeLGYiSm4sYx"
      }
    },
    {
      "cell_type": "code",
      "source": [
        "num1 = int(input(\"ilk sayıyı giriniz: \"))\n",
        "num2 = int(input(\"ikinci sayıyı giriniz: \"))\n",
        "\n",
        "if num1 >= num2:\n",
        "  if num1 == num2:\n",
        "    print(num1, ' ve ', num2, ' eşittir')\n",
        "  else:\n",
        "    print('{} değeri {} değeriden büyüktür'.format(num1,num2))\n",
        "else:\n",
        "  print('{} değeri {} değeriden küçüktür'.format(num1,num2))           "
      ],
      "metadata": {
        "colab": {
          "base_uri": "https://localhost:8080/"
        },
        "id": "8z3pYPM24vhj",
        "outputId": "237fe8f4-9efc-44a3-9e88-0cf868a3eb61"
      },
      "execution_count": null,
      "outputs": [
        {
          "output_type": "stream",
          "name": "stdout",
          "text": [
            "ilk sayıyı giriniz: 5\n",
            "ikinci sayıyı giriniz: 47\n",
            "5 değeri 47 değeriden küçüktür\n"
          ]
        }
      ]
    },
    {
      "cell_type": "code",
      "source": [
        ""
      ],
      "metadata": {
        "id": "0T2frG4U6B4K"
      },
      "execution_count": null,
      "outputs": []
    },
    {
      "cell_type": "code",
      "source": [
        "number = -3\n",
        "if number > 0: print(\"Poitif sayıdır\")\n",
        "else: print(\"Negatif sayıdır\")"
      ],
      "metadata": {
        "colab": {
          "base_uri": "https://localhost:8080/"
        },
        "id": "L7f6-Kqo6MSA",
        "outputId": "63152bd5-c8f2-4f71-b029-439f01062b73"
      },
      "execution_count": null,
      "outputs": [
        {
          "output_type": "stream",
          "name": "stdout",
          "text": [
            "Negatif sayıdır\n"
          ]
        }
      ]
    },
    {
      "cell_type": "code",
      "source": [
        "x = 10\n",
        "y = int(input(\"Tahmin edilen değer\"))\n",
        "\n",
        "if x == y:\n",
        "  print(\"harikasın ilk denemede buldun\")\n",
        "elif x < y:\n",
        "  print(\"tahmin edilen değer büyük\")  \n",
        "else:\n",
        "  print(\"tahmin edilen değer küçük\")"
      ],
      "metadata": {
        "colab": {
          "base_uri": "https://localhost:8080/"
        },
        "id": "mrg6yX-C9cET",
        "outputId": "e7fa9b3d-bb57-4ad2-b48e-a4d9b6200d2e"
      },
      "execution_count": null,
      "outputs": [
        {
          "output_type": "stream",
          "name": "stdout",
          "text": [
            "Tahmin edilen değer5\n",
            "tahmin edilen değer küçük\n"
          ]
        }
      ]
    },
    {
      "cell_type": "markdown",
      "source": [
        "**Döngüler**\n",
        "\n",
        "range(başlangıç değeri, bitiş değeri, değişim miktarı) başlangıç değerini vermezsek 0 dan başlar değişim miktarını vermezsek de birer birer arttırır\n",
        "\n",
        "range(bitiş değeri) olarak da kullanılabilir -> değişim miktarı 1 artar başlangıç değerini 0 alır\n"
      ],
      "metadata": {
        "id": "oilaXuQ1--ZD"
      }
    },
    {
      "cell_type": "code",
      "source": [
        "range(5)"
      ],
      "metadata": {
        "colab": {
          "base_uri": "https://localhost:8080/"
        },
        "id": "yEoqftyA_GaN",
        "outputId": "ef738a76-af08-4e13-b40d-29165e98e600"
      },
      "execution_count": null,
      "outputs": [
        {
          "output_type": "execute_result",
          "data": {
            "text/plain": [
              "range(0, 5)"
            ]
          },
          "metadata": {},
          "execution_count": 9
        }
      ]
    },
    {
      "cell_type": "code",
      "source": [
        "range(2,10,2)"
      ],
      "metadata": {
        "colab": {
          "base_uri": "https://localhost:8080/"
        },
        "id": "3HXRgQW3_JQ3",
        "outputId": "c1628af4-2c86-4a9c-9516-4e7c11d78da0"
      },
      "execution_count": null,
      "outputs": [
        {
          "output_type": "execute_result",
          "data": {
            "text/plain": [
              "range(2, 10, 2)"
            ]
          },
          "metadata": {},
          "execution_count": 79
        }
      ]
    },
    {
      "cell_type": "code",
      "source": [
        "range(20,2,-2)"
      ],
      "metadata": {
        "id": "aBKCs6eY_T6y",
        "colab": {
          "base_uri": "https://localhost:8080/"
        },
        "outputId": "0e3b01e1-859c-481e-a3fd-cd66ad12d445"
      },
      "execution_count": null,
      "outputs": [
        {
          "output_type": "execute_result",
          "data": {
            "text/plain": [
              "range(20, 2, -2)"
            ]
          },
          "metadata": {},
          "execution_count": 7
        }
      ]
    },
    {
      "cell_type": "markdown",
      "source": [
        "for item in loop:\n",
        "  print(item)"
      ],
      "metadata": {
        "id": "l5iAPpN7_cvE"
      }
    },
    {
      "cell_type": "code",
      "source": [
        "for item in range(5):\n",
        "  print(item)"
      ],
      "metadata": {
        "colab": {
          "base_uri": "https://localhost:8080/"
        },
        "id": "Fow5M39C_sWU",
        "outputId": "46fc0359-e32f-4928-8b1d-293b197497d8"
      },
      "execution_count": null,
      "outputs": [
        {
          "output_type": "stream",
          "name": "stdout",
          "text": [
            "0\n",
            "1\n",
            "2\n",
            "3\n",
            "4\n"
          ]
        }
      ]
    },
    {
      "cell_type": "code",
      "source": [
        "for i in range(4,10):\n",
        "  print(i)"
      ],
      "metadata": {
        "colab": {
          "base_uri": "https://localhost:8080/"
        },
        "id": "bE1de0vN_35c",
        "outputId": "ead686ad-7ce5-4ca3-ba73-639acb2cad84"
      },
      "execution_count": null,
      "outputs": [
        {
          "output_type": "stream",
          "name": "stdout",
          "text": [
            "4\n",
            "5\n",
            "6\n",
            "7\n",
            "8\n",
            "9\n"
          ]
        }
      ]
    },
    {
      "cell_type": "code",
      "source": [
        "for x in range(20,1,-2):\n",
        "  print(x)"
      ],
      "metadata": {
        "colab": {
          "base_uri": "https://localhost:8080/"
        },
        "id": "XYu_S8WyAO1k",
        "outputId": "20e34d45-063b-4f50-c669-5535208ff94d"
      },
      "execution_count": null,
      "outputs": [
        {
          "output_type": "stream",
          "name": "stdout",
          "text": [
            "20\n",
            "18\n",
            "16\n",
            "14\n",
            "12\n",
            "10\n",
            "8\n",
            "6\n",
            "4\n",
            "2\n"
          ]
        }
      ]
    },
    {
      "cell_type": "markdown",
      "source": [
        "**Break**\n",
        "\n",
        "döngünün bir noktada durmasını ve döngüden çıkmasını istediğimiz zaman break kullanıyoruz. break görür görmez program sonlanıyor. "
      ],
      "metadata": {
        "id": "yBL6ByMeAkpA"
      }
    },
    {
      "cell_type": "code",
      "source": [
        "for i in range(7,16):\n",
        "  if i > 12:\n",
        "    print(\"break\")\n",
        "    break\n",
        "  else:\n",
        "    print(i)  "
      ],
      "metadata": {
        "colab": {
          "base_uri": "https://localhost:8080/"
        },
        "id": "87T4XwGOA4EY",
        "outputId": "e7f67888-2450-4134-c98c-d4998365f135"
      },
      "execution_count": null,
      "outputs": [
        {
          "output_type": "stream",
          "name": "stdout",
          "text": [
            "7\n",
            "8\n",
            "9\n",
            "10\n",
            "11\n",
            "12\n",
            "break\n"
          ]
        }
      ]
    },
    {
      "cell_type": "markdown",
      "source": [
        "**Continue** "
      ],
      "metadata": {
        "id": "4MaXZuQyCLKk"
      }
    },
    {
      "cell_type": "code",
      "source": [
        "for i in range(3,10,2):\n",
        "  if i == 7:\n",
        "    print(\"Continue\")\n",
        "    continue\n",
        "  print(i)  "
      ],
      "metadata": {
        "colab": {
          "base_uri": "https://localhost:8080/"
        },
        "id": "u7cIvVVLBeRE",
        "outputId": "f19e69a5-6129-428e-ce45-0d88a06ef77a"
      },
      "execution_count": null,
      "outputs": [
        {
          "output_type": "stream",
          "name": "stdout",
          "text": [
            "3\n",
            "5\n",
            "Continue\n",
            "9\n"
          ]
        }
      ]
    },
    {
      "cell_type": "markdown",
      "source": [
        "**While**\n",
        "\n",
        "belirli bir koşul doğru olduğu sürece çalışıyor. koşul yanlış olduğunda döngü sonlanıyor."
      ],
      "metadata": {
        "id": "GzAyBCuGCstM"
      }
    },
    {
      "cell_type": "code",
      "source": [
        "count = 1\n",
        "\n",
        "while count < 6:\n",
        "  print(count)\n",
        "  count +=1"
      ],
      "metadata": {
        "colab": {
          "base_uri": "https://localhost:8080/"
        },
        "id": "D2mDK4UCCvRk",
        "outputId": "69ac2e80-9b51-47bd-b5ae-edbfd1309f13"
      },
      "execution_count": null,
      "outputs": [
        {
          "output_type": "stream",
          "name": "stdout",
          "text": [
            "1\n",
            "2\n",
            "3\n",
            "4\n",
            "5\n"
          ]
        }
      ]
    },
    {
      "cell_type": "code",
      "source": [
        "number = int(input(\"10 ile 20 arasında bir sayı giriniz: \"))\n",
        "\n",
        "while number > 20 or number < 10:\n",
        "  print(\"İstenen değer aralığında bir değer girmediniz.\")\n",
        "  number = int(input(\"Lütfen 10 ile 20 arasında bir sayı giriniz: \"))\n",
        "else: print(\"Doğru aralıkta girilen değerimiz: \",number)  "
      ],
      "metadata": {
        "colab": {
          "base_uri": "https://localhost:8080/"
        },
        "id": "zRolbRZ5DcqC",
        "outputId": "d05ece0e-a8eb-4d06-80e5-7ffea0ee90dc"
      },
      "execution_count": null,
      "outputs": [
        {
          "output_type": "stream",
          "name": "stdout",
          "text": [
            "10 ile 20 arasında bir sayı giriniz: 3\n",
            "İstenen değer aralığında bir değer girmediniz.\n",
            "Lütfen 10 ile 20 arasında bir sayı giriniz: 16\n",
            "Doğru aralıkta girilen değerimiz:  16\n"
          ]
        }
      ]
    },
    {
      "cell_type": "code",
      "source": [
        "count = 1 \n",
        "while count < 2:\n",
        "  print(\"Hello\")"
      ],
      "metadata": {
        "id": "Lqae8SoDEjKe"
      },
      "execution_count": null,
      "outputs": []
    },
    {
      "cell_type": "markdown",
      "source": [
        "**İç içe döngüler**"
      ],
      "metadata": {
        "id": "fJOsahtvFJwI"
      }
    },
    {
      "cell_type": "code",
      "source": [
        "row = 5\n",
        "for i in range(1,row+1):\n",
        "  for j in range (1,i+1):\n",
        "    print(\"*\", end=\" \")\n",
        "  print()  "
      ],
      "metadata": {
        "colab": {
          "base_uri": "https://localhost:8080/"
        },
        "id": "GiRXRCdqFMU3",
        "outputId": "dd4fe847-87cb-43fb-f6ac-2fef40b531db"
      },
      "execution_count": null,
      "outputs": [
        {
          "output_type": "stream",
          "name": "stdout",
          "text": [
            "* \n",
            "* * \n",
            "* * * \n",
            "* * * * \n",
            "* * * * * \n"
          ]
        }
      ]
    },
    {
      "cell_type": "code",
      "source": [
        "for item in range(5):\n",
        "  print(str(item), end=\" \") #yanyana yazmayı sağlar"
      ],
      "metadata": {
        "colab": {
          "base_uri": "https://localhost:8080/"
        },
        "id": "hN0GsoyYGXhV",
        "outputId": "4cda2f69-78dd-43a1-ad45-a4563f28a2bb"
      },
      "execution_count": null,
      "outputs": [
        {
          "output_type": "stream",
          "name": "stdout",
          "text": [
            "0 1 2 3 4 "
          ]
        }
      ]
    },
    {
      "cell_type": "code",
      "source": [
        "row = 5\n",
        "for i in range(row,0,-1):\n",
        "  for j in range (1,i+1):\n",
        "    print(\"*\", end=\" \")\n",
        "  print()  "
      ],
      "metadata": {
        "colab": {
          "base_uri": "https://localhost:8080/"
        },
        "id": "ql5dqfbTfZYm",
        "outputId": "1bbef4d5-9291-4101-c9da-a28f9c8f7c9e"
      },
      "execution_count": null,
      "outputs": [
        {
          "output_type": "stream",
          "name": "stdout",
          "text": [
            "* * * * * \n",
            "* * * * \n",
            "* * * \n",
            "* * \n",
            "* \n"
          ]
        }
      ]
    }
  ]
}