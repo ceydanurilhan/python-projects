{
  "nbformat": 4,
  "nbformat_minor": 0,
  "metadata": {
    "colab": {
      "name": "tasKagitMakasOyunu.ipynb",
      "provenance": [],
      "authorship_tag": "ABX9TyNdmpXo90koZu+R3eiX8cuU",
      "include_colab_link": true
    },
    "kernelspec": {
      "name": "python3",
      "display_name": "Python 3"
    },
    "language_info": {
      "name": "python"
    }
  },
  "cells": [
    {
      "cell_type": "markdown",
      "metadata": {
        "id": "view-in-github",
        "colab_type": "text"
      },
      "source": [
        "<a href=\"https://colab.research.google.com/github/ceydanurilhan/python-projects/blob/main/tasKagitMakasOyunu.ipynb\" target=\"_parent\"><img src=\"https://colab.research.google.com/assets/colab-badge.svg\" alt=\"Open In Colab\"/></a>"
      ]
    },
    {
      "cell_type": "code",
      "execution_count": 1,
      "metadata": {
        "colab": {
          "base_uri": "https://localhost:8080/"
        },
        "id": "-v9Tg7b9pLPm",
        "outputId": "47083b1e-bc6e-4304-d7ac-2eb5fde76266"
      },
      "outputs": [
        {
          "output_type": "stream",
          "name": "stdout",
          "text": [
            "\n",
            " 1 -> Taş\n",
            " 2 -> Kağıt\n",
            " 3 -> Makas\n",
            " Oyundan çıkmak için -> 4\n",
            "Seçiminizi Yapınız: 2\n",
            "Bilgisayarın seçimi 3\n",
            "Kazanan: Bilgisayar\n",
            "Taş kağıt makas oyununa hoş geldiniz!\n",
            "---------------------------------------\n",
            "\n",
            " 1 -> Taş\n",
            " 2 -> Kağıt\n",
            " 3 -> Makas\n",
            " Oyundan çıkmak için -> 4\n",
            "Seçiminizi Yapınız: 1\n",
            "Bilgisayarın seçimi 3\n",
            "Kazanan: Oyuncu\n",
            "Taş kağıt makas oyununa hoş geldiniz!\n",
            "---------------------------------------\n",
            "\n",
            " 1 -> Taş\n",
            " 2 -> Kağıt\n",
            " 3 -> Makas\n",
            " Oyundan çıkmak için -> 4\n",
            "Seçiminizi Yapınız: 3\n",
            "Bilgisayarın seçimi 1\n",
            "Kazanan: Bilgisayar\n",
            "Taş kağıt makas oyununa hoş geldiniz!\n",
            "---------------------------------------\n",
            "\n",
            " 1 -> Taş\n",
            " 2 -> Kağıt\n",
            " 3 -> Makas\n",
            " Oyundan çıkmak için -> 4\n",
            "Seçiminizi Yapınız: 1\n",
            "Bilgisayarın seçimi 3\n",
            "Kazanan: Oyuncu\n",
            "Taş kağıt makas oyununa hoş geldiniz!\n",
            "---------------------------------------\n",
            "\n",
            " 1 -> Taş\n",
            " 2 -> Kağıt\n",
            " 3 -> Makas\n",
            " Oyundan çıkmak için -> 4\n",
            "Seçiminizi Yapınız: 4\n",
            "\n",
            "Oyunu bitirdiniz.\n",
            "\n",
            "Kullanıcı skoru: 200\n",
            "Bilgisayarın skoru: 200\"\n",
            "Oyun berabere!\n"
          ]
        }
      ],
      "source": [
        "import random\n",
        "\n",
        "player_score, computer_score = 0, 0\n",
        "computer_choice = 1\n",
        "\n",
        "def print_result(winner = \"Bilgisayar\"):\n",
        "    global computer_score, player_score\n",
        "    print(f\"Bilgisayarın seçimi {computer_choice}\\nKazanan: {winner}\")\n",
        "    \n",
        "    if winner == \"Bilgisayar\":\n",
        "        computer_score += 100\n",
        "    else :\n",
        "        player_score += 100\n",
        "    \n",
        "    print(\"Taş kağıt makas oyununa hoş geldiniz!\\n\" + (\"-\"*39))\n",
        " \n",
        "while True:\n",
        "    print(\"\\n 1 -> Taş\\n 2 -> Kağıt\\n 3 -> Makas\\n Oyundan çıkmak için -> 4\")\n",
        "    player_choice = int(input(\"Seçiminizi Yapınız: \"))\n",
        "    computer_choice = random.choice([1, 2, 3])\n",
        "    \n",
        "    if player_choice == computer_choice:\n",
        "        print(\"Berabere, yeniden oynayınız\")\n",
        "    elif player_choice == 1:\n",
        "        if computer_choice == 2:\n",
        "            print_result()\n",
        "        else: \n",
        "            print_result(\"Oyuncu\")\n",
        "    elif player_choice == 2:\n",
        "        if computer_choice == 1:\n",
        "            print_result(\"Oyuncu\")\n",
        "        else: \n",
        "         print_result()\n",
        "    elif player_choice == 3:\n",
        "        if computer_choice == 1:\n",
        "            print_result()\n",
        "        else:\n",
        "            print_result(\"Oyuncu\")\n",
        "    elif player_choice == 4 :\n",
        "        print(\"\\nOyunu bitirdiniz.\")\n",
        "        break\n",
        "        \n",
        "        \n",
        "    \n",
        "print(f'\\nKullanıcı skoru: {player_score}\\nBilgisayarın skoru: {computer_score}\"')\n",
        "if player_score < computer_score:\n",
        "    print(f\"Bilgisayar {computer_score - player_score} farkla oyuncuyu yenmiştir.\")\n",
        "elif player_score > computer_score:\n",
        "    print(f\"Oyuncu {player_score- computer_score} farkla bilgisayarı yenmiştir\")\n",
        "else:\n",
        "    print(\"Oyun berabere!\")"
      ]
    }
  ]
}