{
  "nbformat": 4,
  "nbformat_minor": 0,
  "metadata": {
    "colab": {
      "name": "SistersLab-Ders3.ipynb",
      "provenance": [],
      "authorship_tag": "ABX9TyOp5axNWluF3hUVPdz1IG+a",
      "include_colab_link": true
    },
    "kernelspec": {
      "name": "python3",
      "display_name": "Python 3"
    },
    "language_info": {
      "name": "python"
    }
  },
  "cells": [
    {
      "cell_type": "markdown",
      "metadata": {
        "id": "view-in-github",
        "colab_type": "text"
      },
      "source": [
        "<a href=\"https://colab.research.google.com/github/ceydanurilhan/python-projects/blob/main/SistersLab_Ders3.ipynb\" target=\"_parent\"><img src=\"https://colab.research.google.com/assets/colab-badge.svg\" alt=\"Open In Colab\"/></a>"
      ]
    },
    {
      "cell_type": "markdown",
      "source": [
        "# Fonksiyonlar \n",
        "\n",
        "def anahtar kelimesi ile fonksiyon tanımlamaları yapılır.\n"
      ],
      "metadata": {
        "id": "H0_fPQ8hiAsr"
      }
    },
    {
      "cell_type": "markdown",
      "source": [
        "**Parametresiz Fonksiyonlar**\n",
        "\n",
        "Fonksiyonları çağırdığımız yerde fonksiyonlar işlev kazanır. Eğer çağırmazsak hiçbir işlevi olmaz.\n"
      ],
      "metadata": {
        "id": "OgHwpsFsjDPp"
      }
    },
    {
      "cell_type": "code",
      "execution_count": null,
      "metadata": {
        "colab": {
          "base_uri": "https://localhost:8080/"
        },
        "id": "G_PRPW0ZRLpv",
        "outputId": "4817983d-9c8d-4613-d1e4-32c8b720e076"
      },
      "outputs": [
        {
          "output_type": "stream",
          "name": "stdout",
          "text": [
            "Hello World!\n"
          ]
        }
      ],
      "source": [
        "def sayHello():\n",
        "  print(\"Hello World!\")\n",
        "\n",
        "sayHello()  "
      ]
    },
    {
      "cell_type": "markdown",
      "source": [
        "**Parametre Alan Fonksiyonlar**"
      ],
      "metadata": {
        "id": "m1xriBeZkB_g"
      }
    },
    {
      "cell_type": "code",
      "source": [
        "def sayHello(name):\n",
        "  print(\"Merhaba {} aramıza hoşgeldin\".format(name))\n",
        "\n",
        "sayHello(\"Ceyda\")  "
      ],
      "metadata": {
        "colab": {
          "base_uri": "https://localhost:8080/"
        },
        "id": "kj4Zvi-TkBmQ",
        "outputId": "728a50ac-f3b5-43be-ec40-903b6e52c675"
      },
      "execution_count": null,
      "outputs": [
        {
          "output_type": "stream",
          "name": "stdout",
          "text": [
            "Merhaba Ceyda aramıza hoşgeldin\n"
          ]
        }
      ]
    },
    {
      "cell_type": "markdown",
      "source": [
        "iki sayının toplamını geri döndüren fonksiyonu yazalım"
      ],
      "metadata": {
        "id": "Jvwpcf1vtxpP"
      }
    },
    {
      "cell_type": "code",
      "source": [
        "def add(num1,num2):\n",
        "  result = num1 + num2\n",
        "  return result\n",
        "\n",
        "result = add(3,9)  \n",
        "print(result)"
      ],
      "metadata": {
        "colab": {
          "base_uri": "https://localhost:8080/"
        },
        "id": "R3hLab8Et2lr",
        "outputId": "c541d15e-3004-416a-d9eb-9e063b470a22"
      },
      "execution_count": null,
      "outputs": [
        {
          "output_type": "stream",
          "name": "stdout",
          "text": [
            "12\n"
          ]
        }
      ]
    },
    {
      "cell_type": "code",
      "source": [
        "def add(num1,num2):\n",
        "  return num1+num2\n",
        "\n",
        "print(add(3,9))  "
      ],
      "metadata": {
        "colab": {
          "base_uri": "https://localhost:8080/"
        },
        "id": "OzQKqfKGuhiI",
        "outputId": "a4ac4d2a-699d-414f-b86d-0f9ebc086cdf"
      },
      "execution_count": null,
      "outputs": [
        {
          "output_type": "stream",
          "name": "stdout",
          "text": [
            "12\n"
          ]
        }
      ]
    },
    {
      "cell_type": "code",
      "source": [
        "from random import randint\n",
        "\n",
        "print(randint(10,20))"
      ],
      "metadata": {
        "colab": {
          "base_uri": "https://localhost:8080/"
        },
        "id": "MRShV1AYuufC",
        "outputId": "2e3705b7-5618-400c-8f53-e35e44a234de"
      },
      "execution_count": null,
      "outputs": [
        {
          "output_type": "stream",
          "name": "stdout",
          "text": [
            "14\n"
          ]
        }
      ]
    },
    {
      "cell_type": "code",
      "source": [
        "# dört işlem yapan bir hesap makinesi\n",
        "\n",
        "def calculator(num1,num2):\n",
        "  add = num1 + num2\n",
        "  sub = num1 - num2\n",
        "  multiply = num1 * num2\n",
        "  division = num1 / num2\n",
        "  intDivision = num1 // num2\n",
        "\n",
        "  return add,sub,multiply,division,intDivision\n",
        "\n",
        "a,b,c,d,e = calculator(10,2) #çoklu atama\n",
        "\n",
        "print(\"Toplama: \", a)\n",
        "print(\"Çıkarma: \",b)\n",
        "print(\"Çarpma: \",c)\n",
        "print(\"Float Bölme: \",d)\n",
        "print(\"Int Bölme: \",e)"
      ],
      "metadata": {
        "colab": {
          "base_uri": "https://localhost:8080/"
        },
        "id": "lmMiC0RkvUMK",
        "outputId": "bb5d7621-3dbe-4b07-e01d-9f0b6b8469e9"
      },
      "execution_count": null,
      "outputs": [
        {
          "output_type": "stream",
          "name": "stdout",
          "text": [
            "Toplama:  12\n",
            "Çıkarma:  8\n",
            "Çarpma:  20\n",
            "Float Bölme:  5.0\n",
            "Int Bölme:  5\n"
          ]
        }
      ]
    },
    {
      "cell_type": "code",
      "source": [
        "global_variable = \"GLOBAL\"\n",
        "\n",
        "def func():\n",
        "  local_variable = \"LOCAL\"\n",
        "  print(\"Fonksiyon içerisinde global değişken {}, local değişken {}\".format(global_variable,local_variable))\n",
        "\n",
        "func()\n",
        "print(\"Fonksiyon dışında global değişken {}, local değişken {}\".format(global_variable,local_variable))  \n",
        "#fonksiyon içerisnde tanımlanan bir değişkene fonksiyon dışında erişemeyiz"
      ],
      "metadata": {
        "colab": {
          "base_uri": "https://localhost:8080/",
          "height": 243
        },
        "id": "rKlv-5LXzZHg",
        "outputId": "b32688b1-1b34-4748-e45a-b6e09a4fa4f4"
      },
      "execution_count": null,
      "outputs": [
        {
          "output_type": "stream",
          "name": "stdout",
          "text": [
            "Fonksiyon içerisinde global değişken GLOBAL, local değişken LOCAL\n"
          ]
        },
        {
          "output_type": "error",
          "ename": "NameError",
          "evalue": "ignored",
          "traceback": [
            "\u001b[0;31m---------------------------------------------------------------------------\u001b[0m",
            "\u001b[0;31mNameError\u001b[0m                                 Traceback (most recent call last)",
            "\u001b[0;32m<ipython-input-10-807a76917b6e>\u001b[0m in \u001b[0;36m<module>\u001b[0;34m()\u001b[0m\n\u001b[1;32m      6\u001b[0m \u001b[0;34m\u001b[0m\u001b[0m\n\u001b[1;32m      7\u001b[0m \u001b[0mfunc\u001b[0m\u001b[0;34m(\u001b[0m\u001b[0;34m)\u001b[0m\u001b[0;34m\u001b[0m\u001b[0;34m\u001b[0m\u001b[0m\n\u001b[0;32m----> 8\u001b[0;31m \u001b[0mprint\u001b[0m\u001b[0;34m(\u001b[0m\u001b[0;34m\"Fonksiyon dışında global değişken {}, local değişken {}\"\u001b[0m\u001b[0;34m.\u001b[0m\u001b[0mformat\u001b[0m\u001b[0;34m(\u001b[0m\u001b[0mglobal_variable\u001b[0m\u001b[0;34m,\u001b[0m\u001b[0mlocal_variable\u001b[0m\u001b[0;34m)\u001b[0m\u001b[0;34m)\u001b[0m\u001b[0;34m\u001b[0m\u001b[0;34m\u001b[0m\u001b[0m\n\u001b[0m\u001b[1;32m      9\u001b[0m \u001b[0;31m#fonksiyon içerisnde tanımlanan bir değişkene fonksiyon dışında erişemeyiz\u001b[0m\u001b[0;34m\u001b[0m\u001b[0;34m\u001b[0m\u001b[0;34m\u001b[0m\u001b[0m\n",
            "\u001b[0;31mNameError\u001b[0m: name 'local_variable' is not defined"
          ]
        }
      ]
    },
    {
      "cell_type": "code",
      "source": [
        "a = 4\n",
        "\n",
        "def print_a():\n",
        "  print(a)\n",
        "\n",
        "def print_a2():\n",
        "  a=8\n",
        "  print(a)  \n",
        "\n",
        "def print_a3():\n",
        "  print(a)  \n",
        "\n",
        "print_a() \n",
        "print_a2() \n",
        "print_a3()    "
      ],
      "metadata": {
        "colab": {
          "base_uri": "https://localhost:8080/"
        },
        "id": "TCOGRpCWz_J5",
        "outputId": "e4088d6b-d861-4344-cbb4-bac26870e843"
      },
      "execution_count": null,
      "outputs": [
        {
          "output_type": "stream",
          "name": "stdout",
          "text": [
            "4\n",
            "8\n",
            "4\n"
          ]
        }
      ]
    },
    {
      "cell_type": "code",
      "source": [
        "a = 4\n",
        "\n",
        "def print_a():\n",
        "  print(a)\n",
        "\n",
        "def print_a2():\n",
        "  global a\n",
        "  a=8\n",
        "  print(a)  \n",
        "\n",
        "def print_a3():\n",
        "  print(a)  \n",
        "\n",
        "print_a() \n",
        "print_a2() \n",
        "print_a3()    "
      ],
      "metadata": {
        "colab": {
          "base_uri": "https://localhost:8080/"
        },
        "id": "3nFVxJVm1GXQ",
        "outputId": "01f0cf49-ec1d-4e8b-f6a1-0f5fc7038eb4"
      },
      "execution_count": null,
      "outputs": [
        {
          "output_type": "stream",
          "name": "stdout",
          "text": [
            "4\n",
            "8\n",
            "8\n"
          ]
        }
      ]
    },
    {
      "cell_type": "code",
      "source": [
        "def sayHello(name = \"Katılımcılar\"):\n",
        "  print(\"Hello\",name)\n",
        "\n",
        "sayHello() #default parametreyi kullanır\n",
        "sayHello(\"Ceyda\") #gönderilen parametreyi kullanır "
      ],
      "metadata": {
        "colab": {
          "base_uri": "https://localhost:8080/"
        },
        "id": "ufbOCzaS1H4A",
        "outputId": "880f75b7-5b7f-4663-9f0a-ba00e1bcd3f3"
      },
      "execution_count": null,
      "outputs": [
        {
          "output_type": "stream",
          "name": "stdout",
          "text": [
            "Hello Katılımcılar\n",
            "Hello Ceyda\n"
          ]
        }
      ]
    },
    {
      "cell_type": "code",
      "source": [
        "#parametre olarak gelen değerlerin toplamını ekrana basan fonksiyon\n",
        "def add(*numbers):\n",
        "  total = 0\n",
        "  for i in numbers:\n",
        "    total = total + i\n",
        "  print(\"Toplam: \", total)  \n",
        "\n",
        "#0 parametreli\n",
        "add()\n",
        "\n",
        "#4 parametreli\n",
        "add(1,4,6,3)\n",
        "\n",
        "#2 parametreli\n",
        "add(49, 2.4)"
      ],
      "metadata": {
        "colab": {
          "base_uri": "https://localhost:8080/"
        },
        "id": "mVe3lHMo2yr2",
        "outputId": "95ed5f3f-e1fa-4ed5-b4b1-1f490be6c36e"
      },
      "execution_count": null,
      "outputs": [
        {
          "output_type": "stream",
          "name": "stdout",
          "text": [
            "Toplam:  0\n",
            "Toplam:  14\n",
            "Toplam:  51.4\n"
          ]
        }
      ]
    },
    {
      "cell_type": "code",
      "source": [
        "#Kullanıcının girdiği 2 sayı arasındaki çift sayıları ekrana yazdıralım. Ardından sayıların ortalamasını hesaplayalım ve ekrana basalım.\n",
        "\n"
      ],
      "metadata": {
        "id": "bq305Wax4gMa"
      },
      "execution_count": null,
      "outputs": []
    },
    {
      "cell_type": "code",
      "source": [
        "def is_even(num):\n",
        "  if num % 2 == 0:\n",
        "    return True\n",
        "  else:\n",
        "    return False\n",
        "\n",
        "\n",
        "total=0\n",
        "count= 0\n",
        "first = int(input(\"Başlangıç değeri: \"))\n",
        "last = int(input(\"Bitiş değeri:\"))\n",
        "\n",
        "print(\"{} ile {} degerleri arasındaki çift sayılar\".format(first,last))\n",
        "for i in range(first,last+1):\n",
        "  if is_even(i):\n",
        "    print(i)\n",
        "    total +=i\n",
        "    count +=1\n",
        "\n",
        "print(\"Ortalama\", total / count)\n",
        "\n",
        "  \n",
        "\n"
      ],
      "metadata": {
        "colab": {
          "base_uri": "https://localhost:8080/"
        },
        "id": "wSFTgPdZ9dhL",
        "outputId": "e8aa0328-70a6-4a98-9234-d9e6fb65f258"
      },
      "execution_count": null,
      "outputs": [
        {
          "output_type": "stream",
          "name": "stdout",
          "text": [
            "Başlangıç değeri: 1\n",
            "Bitiş değeri:9\n",
            "1 ile 9 degerleri arasındaki çift sayılar\n",
            "2\n",
            "4\n",
            "6\n",
            "8\n",
            "Ortalama 5.0\n"
          ]
        }
      ]
    },
    {
      "cell_type": "code",
      "source": [
        "#bir sayının asal olup olmadığını bir fonksiyon ile bulup ekrana basalım\n",
        "\n",
        "def asalSayi():\n",
        "  sayi = int(input(\"Sayıyı girin:\"))\n",
        "  if sayi > 1:\n",
        "    for i in range(2, sayi):\n",
        "      if sayi % i == 0:\n",
        "        print(sayi, \"Asal sayı değildir\")\n",
        "        break\n",
        "    else:\n",
        "      print(sayi,\"Asal sayıdır\")\n",
        "  else:\n",
        "    print(sayi,\"Asal sayı değildir\")\n",
        "\n",
        "\n",
        "asalSayi()      "
      ],
      "metadata": {
        "colab": {
          "base_uri": "https://localhost:8080/"
        },
        "id": "ZxwROf8hCl_Q",
        "outputId": "1bc9b7c7-e4c4-43bc-de41-3dc2521c5793"
      },
      "execution_count": null,
      "outputs": [
        {
          "output_type": "stream",
          "name": "stdout",
          "text": [
            "Sayıyı girin:12\n",
            "12 Asal sayı değildir\n"
          ]
        }
      ]
    },
    {
      "cell_type": "code",
      "source": [
        "def asal(num):\n",
        "  i= 2\n",
        "  while i < num:\n",
        "    if num % i == 0:\n",
        "      return \"Asal değildir\"\n",
        "      break\n",
        "    i+=1\n",
        "  else :\n",
        "    return \"Asal sayıdır\"\n",
        "\n",
        "asal(17)\n",
        "    "
      ],
      "metadata": {
        "colab": {
          "base_uri": "https://localhost:8080/",
          "height": 36
        },
        "id": "ztQuMX58E6QX",
        "outputId": "e8638bdd-4a26-4954-ee86-54b2a98087ed"
      },
      "execution_count": null,
      "outputs": [
        {
          "output_type": "execute_result",
          "data": {
            "text/plain": [
              "'Asal sayıdır'"
            ],
            "application/vnd.google.colaboratory.intrinsic+json": {
              "type": "string"
            }
          },
          "metadata": {},
          "execution_count": 36
        }
      ]
    },
    {
      "cell_type": "code",
      "source": [
        "#girilen değerin asal çarpanlarını bulan fonksiyonu yazınız\n",
        "def asal(num):\n",
        "  i= 2\n",
        "  while i < num:\n",
        "    if num % i == 0:\n",
        "      return False\n",
        "      break\n",
        "    i+=1\n",
        "  else :\n",
        "    return True\n",
        "\n",
        "def asalCarpan(num2):\n",
        "  carpanlar = [] #boş liste\n",
        "  j = 2\n",
        "  while num2 > 1:\n",
        "    if num2 % j ==0 and asal(j):\n",
        "      carpanlar.append(j)\n",
        "      num2 /= j\n",
        "    j +=1\n",
        "  return(carpanlar)\n",
        "\n",
        "\n",
        "print(asalCarpan(51))  \n",
        "\n",
        "    "
      ],
      "metadata": {
        "colab": {
          "base_uri": "https://localhost:8080/"
        },
        "id": "TYxOnSDMGmBD",
        "outputId": "e4645e91-d699-4fe2-d1c8-5850769276d4"
      },
      "execution_count": null,
      "outputs": [
        {
          "output_type": "stream",
          "name": "stdout",
          "text": [
            "[3, 17]\n"
          ]
        }
      ]
    }
  ]
}