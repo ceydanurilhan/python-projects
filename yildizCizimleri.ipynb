{
  "nbformat": 4,
  "nbformat_minor": 0,
  "metadata": {
    "colab": {
      "name": "yildizCizimleri.ipynb",
      "provenance": [],
      "authorship_tag": "ABX9TyOrTXfHKqYM7T6AZlYEUN3A",
      "include_colab_link": true
    },
    "kernelspec": {
      "name": "python3",
      "display_name": "Python 3"
    },
    "language_info": {
      "name": "python"
    }
  },
  "cells": [
    {
      "cell_type": "markdown",
      "metadata": {
        "id": "view-in-github",
        "colab_type": "text"
      },
      "source": [
        "<a href=\"https://colab.research.google.com/github/ceydanurilhan/python-projects/blob/main/yildizCizimleri.ipynb\" target=\"_parent\"><img src=\"https://colab.research.google.com/assets/colab-badge.svg\" alt=\"Open In Colab\"/></a>"
      ]
    },
    {
      "cell_type": "markdown",
      "source": [
        "# Yıldız Çizimleri"
      ],
      "metadata": {
        "id": "jKlt7RRKq9NF"
      }
    },
    {
      "cell_type": "code",
      "execution_count": 1,
      "metadata": {
        "colab": {
          "base_uri": "https://localhost:8080/"
        },
        "id": "X8Ew5Mwwq8ge",
        "outputId": "1d87f97f-8ccf-477a-b77b-3267f8dc40ca"
      },
      "outputs": [
        {
          "output_type": "stream",
          "name": "stdout",
          "text": [
            "*\n",
            "**\n",
            "***\n",
            "****\n",
            "*****\n"
          ]
        }
      ],
      "source": [
        "rows = 5\n",
        "for i in range(0,rows):\n",
        "  for j  in range(0,i+1):\n",
        "    print(\"*\" , end=\"\")\n",
        "  print()   "
      ]
    },
    {
      "cell_type": "code",
      "source": [
        "rows = 5\n",
        "for i in range(1,rows+1):\n",
        "  print(\"*\" * i)"
      ],
      "metadata": {
        "colab": {
          "base_uri": "https://localhost:8080/"
        },
        "id": "sSeDSJWprJ0T",
        "outputId": "b80b9346-6659-43a4-daea-a274977ecaae"
      },
      "execution_count": 2,
      "outputs": [
        {
          "output_type": "stream",
          "name": "stdout",
          "text": [
            "*\n",
            "**\n",
            "***\n",
            "****\n",
            "*****\n"
          ]
        }
      ]
    },
    {
      "cell_type": "code",
      "source": [
        "rows = 5\n",
        "for i in range(rows,0,-1):\n",
        "  for j in range(0,i):\n",
        "    print(\"*\", end=\"\")\n",
        "  print()  "
      ],
      "metadata": {
        "colab": {
          "base_uri": "https://localhost:8080/"
        },
        "id": "S19gDlGyrMVc",
        "outputId": "5c53b3a1-7f1e-49b2-d7df-d4df85c1e5ee"
      },
      "execution_count": 3,
      "outputs": [
        {
          "output_type": "stream",
          "name": "stdout",
          "text": [
            "*****\n",
            "****\n",
            "***\n",
            "**\n",
            "*\n"
          ]
        }
      ]
    },
    {
      "cell_type": "code",
      "source": [
        "rows = 5\n",
        "for i in range(rows,0,-1):\n",
        "  print(\"*\" * i)"
      ],
      "metadata": {
        "colab": {
          "base_uri": "https://localhost:8080/"
        },
        "id": "OTCwLMVlrPSy",
        "outputId": "f1ae18c1-724a-4674-a1ec-957d5b2e99ca"
      },
      "execution_count": 4,
      "outputs": [
        {
          "output_type": "stream",
          "name": "stdout",
          "text": [
            "*****\n",
            "****\n",
            "***\n",
            "**\n",
            "*\n"
          ]
        }
      ]
    },
    {
      "cell_type": "code",
      "source": [
        "rows = 5\n",
        "for i in range(0,rows):\n",
        "  for j in range(0,i+1):\n",
        "    if j ==0:\n",
        "      print(\" \"*(rows-i)+ \"*\", end=\"\")\n",
        "    else:\n",
        "      print(\"*\", end=\"\")   \n",
        "  print()"
      ],
      "metadata": {
        "colab": {
          "base_uri": "https://localhost:8080/"
        },
        "id": "BgHl3WTgrS0u",
        "outputId": "ef2cc4b7-e996-4668-d4c1-9d376138bc59"
      },
      "execution_count": 5,
      "outputs": [
        {
          "output_type": "stream",
          "name": "stdout",
          "text": [
            "     *\n",
            "    **\n",
            "   ***\n",
            "  ****\n",
            " *****\n"
          ]
        }
      ]
    },
    {
      "cell_type": "code",
      "source": [
        "rows = 5\n",
        "for i in range(1,rows+1):\n",
        "  print(\" \"*(rows-i)+\"*\" * i)"
      ],
      "metadata": {
        "colab": {
          "base_uri": "https://localhost:8080/"
        },
        "id": "2hL7qknrrWfU",
        "outputId": "eca87014-1cef-408b-f351-f22f98b3bde3"
      },
      "execution_count": 6,
      "outputs": [
        {
          "output_type": "stream",
          "name": "stdout",
          "text": [
            "    *\n",
            "   **\n",
            "  ***\n",
            " ****\n",
            "*****\n"
          ]
        }
      ]
    },
    {
      "cell_type": "code",
      "source": [
        "rows = 5\n",
        "for i in range(rows,0,-1):\n",
        "  for j in range(0,i):\n",
        "    if j ==0:\n",
        "      print(\" \"*(rows-i)+ \"*\", end=\"\")\n",
        "    else:\n",
        "      print(\"*\", end=\"\")   \n",
        "  print()"
      ],
      "metadata": {
        "colab": {
          "base_uri": "https://localhost:8080/"
        },
        "id": "EerjfWlyrZpb",
        "outputId": "40425079-b3b3-4cbf-b0b8-815aaa71d726"
      },
      "execution_count": 7,
      "outputs": [
        {
          "output_type": "stream",
          "name": "stdout",
          "text": [
            "*****\n",
            " ****\n",
            "  ***\n",
            "   **\n",
            "    *\n"
          ]
        }
      ]
    },
    {
      "cell_type": "code",
      "source": [
        "rows = 5\n",
        "for i in range(rows,0,-1):\n",
        "  print(\" \" *(rows-i) + \"*\"*i )"
      ],
      "metadata": {
        "colab": {
          "base_uri": "https://localhost:8080/"
        },
        "id": "H-y8stK0rcW0",
        "outputId": "b77fa855-b85e-453d-ba60-b196415b1834"
      },
      "execution_count": 8,
      "outputs": [
        {
          "output_type": "stream",
          "name": "stdout",
          "text": [
            "*****\n",
            " ****\n",
            "  ***\n",
            "   **\n",
            "    *\n"
          ]
        }
      ]
    },
    {
      "cell_type": "code",
      "source": [
        "rows = 5\n",
        "for i in range(0,rows):\n",
        "  for j in range(0,i+1):\n",
        "    if j ==0:\n",
        "      print(\" \"*(rows-i)+ \"**\", end=\"\")\n",
        "    else:\n",
        "      print(\"*\"*2, end=\"\")   \n",
        "  print()"
      ],
      "metadata": {
        "colab": {
          "base_uri": "https://localhost:8080/"
        },
        "id": "_Oacu41rrfSb",
        "outputId": "d4bcc7a5-e9fd-450b-f2b2-768530c4bc0e"
      },
      "execution_count": 9,
      "outputs": [
        {
          "output_type": "stream",
          "name": "stdout",
          "text": [
            "     **\n",
            "    ****\n",
            "   ******\n",
            "  ********\n",
            " **********\n"
          ]
        }
      ]
    },
    {
      "cell_type": "code",
      "source": [
        "rows = 5\n",
        "for i in range(1,rows+1):\n",
        "  print(\" \"*(rows-i)+\"*\" * i*2)"
      ],
      "metadata": {
        "colab": {
          "base_uri": "https://localhost:8080/"
        },
        "id": "XnxWAYqwriNy",
        "outputId": "d63029bb-33fa-4520-90e4-f7cf5f5923d3"
      },
      "execution_count": 10,
      "outputs": [
        {
          "output_type": "stream",
          "name": "stdout",
          "text": [
            "    **\n",
            "   ****\n",
            "  ******\n",
            " ********\n",
            "**********\n"
          ]
        }
      ]
    }
  ]
}